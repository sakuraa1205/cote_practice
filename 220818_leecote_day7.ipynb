{
 "cells": [
  {
   "cell_type": "markdown",
   "id": "4c4fed2f",
   "metadata": {},
   "source": [
    "### Chapter 8 다이나믹 프로그래밍\n",
    "- 한 번 계산한 문제는 다시 계산하지 않도록 하는 알고리즘\n",
    "- 동적계획법 이라고도 함\n",
    "- 탑다운 방식 : 큰 문제를 해결하기 위해 작은 문제를 호출 <=> 바텀업 방식 : 단순히 반복문을 이용하여 소스코드를 작성"
   ]
  },
  {
   "cell_type": "code",
   "execution_count": 2,
   "id": "ffd47de1",
   "metadata": {},
   "outputs": [
    {
     "name": "stdout",
     "output_type": "stream",
     "text": [
      "3\n"
     ]
    }
   ],
   "source": [
    "# 피보나치 수열 소스코드 1 - 재귀함수\n",
    "# 이렇게 작성하면 시간 복잡도가 O(2^N)까지 늘어남\n",
    "def fibo(x):\n",
    "    if x == 1 or x == 2:\n",
    "        return 1\n",
    "    return fibo(x - 1) + fibo(x - 2)\n",
    "\n",
    "print(fibo(4))"
   ]
  },
  {
   "cell_type": "code",
   "execution_count": 4,
   "id": "7b2e2ca5",
   "metadata": {},
   "outputs": [
    {
     "name": "stdout",
     "output_type": "stream",
     "text": [
      "218922995834555169026\n"
     ]
    }
   ],
   "source": [
    "# 피보나치 수열 소스코드 2 - 재귀적 다이나믹 프로그래밍\n",
    "d = [0] * 100\n",
    "\n",
    "def fibo(x):\n",
    "    if x == 1 or x == 2:\n",
    "        return 1\n",
    "    if d[x] != 0:\n",
    "        return d[x]\n",
    "    d[x] = fibo(x - 1) + fibo(x - 2)\n",
    "    return d[x]\n",
    "\n",
    "print(fibo(99))"
   ]
  },
  {
   "cell_type": "code",
   "execution_count": 6,
   "id": "60c4e87f",
   "metadata": {},
   "outputs": [
    {
     "name": "stdout",
     "output_type": "stream",
     "text": [
      "218922995834555169026\n"
     ]
    }
   ],
   "source": [
    "# 피보나치 수열 소스코드 3 - 바텀업 방식\n",
    "# 동빈북 저자 추천\n",
    "d = [0] * 100\n",
    "\n",
    "d[1] = 1\n",
    "d[2] = 1\n",
    "n = 99\n",
    "\n",
    "for i in range(3, n + 1):\n",
    "    d[i] = d[i - 1] + d[i - 2]\n",
    "\n",
    "print(d[n])"
   ]
  },
  {
   "cell_type": "markdown",
   "id": "117fb1cf",
   "metadata": {},
   "source": [
    "#### 1로 만들기"
   ]
  },
  {
   "cell_type": "code",
   "execution_count": 14,
   "id": "97c18718",
   "metadata": {},
   "outputs": [
    {
     "name": "stdout",
     "output_type": "stream",
     "text": [
      "26\n",
      "5\n"
     ]
    }
   ],
   "source": [
    "# 내 답안 - 틀림\n",
    "x = int(input())\n",
    "count = 0\n",
    "\n",
    "for i in range(2, x + 1):\n",
    "    if x == 1:\n",
    "        break     \n",
    "    elif x % 5 == 0:\n",
    "        x = x / 5\n",
    "        count += 1\n",
    "    elif x % 3 == 0:\n",
    "        x = x / 3\n",
    "        count += 1\n",
    "    elif x % 2 == 0:\n",
    "        x = x / 2\n",
    "        count += 1\n",
    "    else:\n",
    "        x = x - 1\n",
    "        count += 1\n",
    "\n",
    "\n",
    "print(count)"
   ]
  },
  {
   "cell_type": "code",
   "execution_count": 17,
   "id": "308dd9f1",
   "metadata": {
    "scrolled": false
   },
   "outputs": [
    {
     "name": "stdout",
     "output_type": "stream",
     "text": [
      "26\n",
      "3\n"
     ]
    }
   ],
   "source": [
    "# 교재 답안\n",
    "x = int(input())\n",
    "d = [0] * 30001\n",
    "\n",
    "for i in range(2, x + 1):\n",
    "    d[i] = d[i - 1] + 1\n",
    "\n",
    "    if i % 2 == 0:\n",
    "        d[i] = min(d[i], d[i // 2] + 1)\n",
    "\n",
    "    elif i % 3 == 0:\n",
    "        d[i] = min(d[i], d[i // 3] + 1)\n",
    "\n",
    "    elif i % 5 == 0:\n",
    "        d[i] = min(d[i], d[i // 5] + 1)\n",
    "\n",
    "\n",
    "print(d[x])"
   ]
  },
  {
   "cell_type": "markdown",
   "id": "82c42373",
   "metadata": {},
   "source": [
    "#### 개미 전사"
   ]
  },
  {
   "cell_type": "code",
   "execution_count": 20,
   "id": "abc55587",
   "metadata": {},
   "outputs": [
    {
     "name": "stdout",
     "output_type": "stream",
     "text": [
      "4\n",
      "1 3 1 5\n",
      "8\n"
     ]
    }
   ],
   "source": [
    "# 교재 답안\n",
    "n = int(input())\n",
    "array = list(map(int, input().split()))\n",
    "\n",
    "d = [0] * 100\n",
    "\n",
    "d[0] = array[0]\n",
    "d[1] = max(array[0], array[1])\n",
    "for i in range(2, n):\n",
    "    d[i] = max(d[i - 1], d[i - 2] + array[i])\n",
    "\n",
    "print(d[n - 1])"
   ]
  },
  {
   "cell_type": "markdown",
   "id": "d754d2d7",
   "metadata": {},
   "source": [
    "#### 바닥 공사"
   ]
  },
  {
   "cell_type": "code",
   "execution_count": 1,
   "id": "808c7d0b",
   "metadata": {},
   "outputs": [
    {
     "name": "stdout",
     "output_type": "stream",
     "text": [
      "3\n",
      "5\n"
     ]
    }
   ],
   "source": [
    "# 교재 답안\n",
    "n = int(input())\n",
    "\n",
    "d = [0] * 1001\n",
    "\n",
    "d[1] = 1\n",
    "d[2] = 3\n",
    "\n",
    "for i in range(3, n + 1):\n",
    "    d[i] = (d[i -1] + 2 * d[i - 2]) % 796796\n",
    "\n",
    "print(d[n])"
   ]
  },
  {
   "cell_type": "markdown",
   "id": "c5d84831",
   "metadata": {},
   "source": [
    "#### 효율적인 화폐 구성"
   ]
  },
  {
   "cell_type": "code",
   "execution_count": 5,
   "id": "aab059ad",
   "metadata": {},
   "outputs": [
    {
     "name": "stdout",
     "output_type": "stream",
     "text": [
      "3 4\n",
      "3\n",
      "5\n",
      "7\n",
      "-1\n"
     ]
    }
   ],
   "source": [
    "# 내 답안 - 그리디로 풀었네;\n",
    "n, m = map(int, input().split())\n",
    "array = []\n",
    "\n",
    "for _ in range(n):\n",
    "    array.append(int(input()))\n",
    "\n",
    "count = 0\n",
    "array = sorted(array, reverse = True)\n",
    "\n",
    "for i in array:\n",
    "    if m % i == 0:\n",
    "        count += (m // i)\n",
    "        m = (m % i)\n",
    "\n",
    "if count == 0:\n",
    "    print('-1')\n",
    "else:\n",
    "    print(count)"
   ]
  },
  {
   "cell_type": "code",
   "execution_count": 6,
   "id": "bf0a60a7",
   "metadata": {},
   "outputs": [
    {
     "name": "stdout",
     "output_type": "stream",
     "text": [
      "3 4\n",
      "3\n",
      "5\n",
      "7\n",
      "-1\n"
     ]
    }
   ],
   "source": [
    "# 교재 답안 - 다이나믹 프로그래밍\n",
    "n, m = map(int, input().split())\n",
    "array = []\n",
    "\n",
    "for _ in range(n):\n",
    "    array.append(int(input()))\n",
    "\n",
    "d = [10001] * (m + 1)\n",
    "\n",
    "d[0] = 0\n",
    "for i in range(n):\n",
    "    for j in range(array[i], m + 1):\n",
    "        if d[j - array[i]] != 10001:\n",
    "            d[j] = min(d[j], d[j - array[i]] + 1)\n",
    "    \n",
    "if d[m] == 10001:\n",
    "    print(-1)\n",
    "else:\n",
    "    print(d[m])"
   ]
  }
 ],
 "metadata": {
  "kernelspec": {
   "display_name": "Python 3",
   "language": "python",
   "name": "python3"
  },
  "language_info": {
   "codemirror_mode": {
    "name": "ipython",
    "version": 3
   },
   "file_extension": ".py",
   "mimetype": "text/x-python",
   "name": "python",
   "nbconvert_exporter": "python",
   "pygments_lexer": "ipython3",
   "version": "3.8.8"
  }
 },
 "nbformat": 4,
 "nbformat_minor": 5
}
