{
 "cells": [
  {
   "cell_type": "markdown",
   "id": "e38eb13f",
   "metadata": {},
   "source": [
    "### Chapter 6 정렬"
   ]
  },
  {
   "cell_type": "markdown",
   "id": "d34aab4a",
   "metadata": {},
   "source": [
    "#### 선택 정렬\n",
    "- 가장 작은 데이터를 선택해 맨 앞에 있는 데이터와 바꾸고, 그 다음 작은 데이터를 선택해 앞에서 두 번째 데이터와 바꾸는 과정 반복\n",
    "- 가장 원시적인 방법으로 매번 '가장 작은 것을 선택'\n",
    "- 시간복잡도 O(N^2)\n",
    "- 효율은 안좋지만 코딩테스트 환경에서는 가장 작은 데이터를 찾을 일이 잦다."
   ]
  },
  {
   "cell_type": "code",
   "execution_count": 2,
   "id": "3bcbf0f1",
   "metadata": {},
   "outputs": [
    {
     "name": "stdout",
     "output_type": "stream",
     "text": [
      "[0, 1, 2, 3, 4, 5, 6, 7, 8, 9]\n"
     ]
    }
   ],
   "source": [
    "# 예제 1\n",
    "array = [7, 5, 9, 0, 3, 1, 6, 2, 4, 8]\n",
    "\n",
    "for i in range(len(array)):\n",
    "    min_index = i\n",
    "    for j in range(i + 1, len(array)):\n",
    "        if array[min_index] > array[j]:\n",
    "            min_index = j\n",
    "    array[i], array[min_index] = array[min_index], array[i]\n",
    "\n",
    "print(array)"
   ]
  },
  {
   "cell_type": "code",
   "execution_count": 3,
   "id": "cbaa222e",
   "metadata": {},
   "outputs": [
    {
     "name": "stdout",
     "output_type": "stream",
     "text": [
      "[5, 3]\n"
     ]
    }
   ],
   "source": [
    "# 예제 2 스와프\n",
    "array = [3, 5]\n",
    "array[0], array[1] = array[1], array[0]\n",
    "\n",
    "print(array)"
   ]
  },
  {
   "cell_type": "markdown",
   "id": "0c2472be",
   "metadata": {},
   "source": [
    "#### 삽입 정렬\n",
    "- 데이터를 하나씩 확인해서 각 데이터를 적절한 위치에 삽입\n",
    "- 거의 정렬된 데이터에 효율적이다. 하지만 정렬되지 않은 데이터는 선택정렬과 비슷하다.\n",
    "- 시간복잡도 : O(N^2) / 정렬된 상황의 시간복잡도 : O(N)"
   ]
  },
  {
   "cell_type": "code",
   "execution_count": 5,
   "id": "f9bc0d0d",
   "metadata": {},
   "outputs": [
    {
     "name": "stdout",
     "output_type": "stream",
     "text": [
      "[0, 1, 2, 3, 4, 5, 6, 7, 8, 9]\n"
     ]
    }
   ],
   "source": [
    "# 예제 1\n",
    "array = [7, 5, 9, 0, 3, 1, 6, 2, 4, 8]\n",
    "\n",
    "for i in range(1, len(array)):\n",
    "    for j in range(i, 0, -1):\n",
    "        if array[j] < array[j - 1]:\n",
    "            array[j], array[j - 1] = array[j - 1], array[j]\n",
    "        else:\n",
    "            break\n",
    "\n",
    "print(array)"
   ]
  },
  {
   "cell_type": "markdown",
   "id": "de144ca9",
   "metadata": {},
   "source": [
    "#### 퀵 정렬\n",
    "- 기준 데이터를 설정하고 기준보다 큰 데이터와 작은 데이터의 위치를 바꾸는 법\n",
    "- 시간복잡도 : O(NlogN) / 최악의 경우 시간복잡도 : O(N^2)\n",
    "- 이미 정렬된 데이터에서는 느리게 작동한다."
   ]
  },
  {
   "cell_type": "code",
   "execution_count": 6,
   "id": "d761287c",
   "metadata": {},
   "outputs": [
    {
     "name": "stdout",
     "output_type": "stream",
     "text": [
      "[0, 1, 2, 3, 4, 5, 6, 7, 8, 9]\n"
     ]
    }
   ],
   "source": [
    "# 예제 1\n",
    "array = [7, 5, 9, 0, 3, 1, 6, 2, 4, 8]\n",
    "\n",
    "def quick_sort(array, start, end):\n",
    "    if start >= end:\n",
    "        return\n",
    "    pivot = start\n",
    "    left = start + 1\n",
    "    right = end\n",
    "    while left <= right:\n",
    "        while left <= end and array[left] <= array[pivot]:\n",
    "            left += 1\n",
    "        while right > start and array[right] >= array[pivot]:\n",
    "            right -= 1\n",
    "        if left > right:\n",
    "            array[right], array[pivot] = array[pivot], array[right]\n",
    "        else:\n",
    "            array[left], array[right] = array[right], array[left]\n",
    "    quick_sort(array, start, right - 1)\n",
    "    quick_sort(array, right + 1, end)\n",
    "\n",
    "quick_sort(array, 0, len(array) - 1)\n",
    "print(array)"
   ]
  },
  {
   "cell_type": "code",
   "execution_count": 9,
   "id": "3b2b9b95",
   "metadata": {},
   "outputs": [
    {
     "name": "stdout",
     "output_type": "stream",
     "text": [
      "[0, 1, 2, 3, 4, 5, 6, 7, 8, 9]\n"
     ]
    }
   ],
   "source": [
    "# 파이썬의 장점을 살린 퀵 정렬 예제 2\n",
    "array = [5, 7, 9, 0, 3, 1, 6, 2, 4, 8]\n",
    "\n",
    "def quick_sort(array):\n",
    "    if len(array) <= 1:\n",
    "        return array\n",
    "    \n",
    "    pivot = array[0]\n",
    "    tail = array[1:]\n",
    "    \n",
    "    left_side = [x for x in tail if x <= pivot]\n",
    "    right_side = [x for x in tail if x > pivot]\n",
    "    \n",
    "    return quick_sort(left_side) + [pivot] + quick_sort(right_side)\n",
    "\n",
    "print(quick_sort(array))"
   ]
  },
  {
   "cell_type": "markdown",
   "id": "13b38a65",
   "metadata": {},
   "source": [
    "#### 계수 정렬\n",
    "- 특정한 조건이 부합할 때만 사용할 수 있지만, 매우 빠른 정렬 알고리즘\n",
    "- 모든 데이터가 양의 정수일 때 시간 복잡도 : 코딩테스트 환경에서는 최악의 경우에도 O(N + K)"
   ]
  },
  {
   "cell_type": "code",
   "execution_count": 10,
   "id": "320cdfbb",
   "metadata": {},
   "outputs": [
    {
     "name": "stdout",
     "output_type": "stream",
     "text": [
      "0 0 1 1 2 2 3 4 5 5 6 7 8 9 9 "
     ]
    }
   ],
   "source": [
    "# 예제 1\n",
    "array = [7, 5, 9, 0, 3, 1, 6, 2, 9, 1, 4, 8, 0, 5, 2]\n",
    "\n",
    "count = [0] * (max(array) + 1)\n",
    "\n",
    "for i in range(len(array)):\n",
    "    count[array[i]] += 1\n",
    "\n",
    "for i in range(len(count)):\n",
    "    for j in range(count[i]):\n",
    "        print(i, end = ' ')"
   ]
  },
  {
   "cell_type": "markdown",
   "id": "66f720cc",
   "metadata": {},
   "source": [
    "#### 파이썬의 정렬 라이브러리\n",
    "- sorted() 함수 제공 / 시간 복잡도 : O(NlogN) 보장\n",
    "\n",
    "- 정렬 라이브러리 : 단순히 정렬 기법을 알고 있는지 물어보는 문제\n",
    "- 선택, 삽입, 퀵 정렬 등 : 정렬 알고리즘의 원리에 대해서 물어보는 문제\n",
    "- 계수 정렬 등 : 퀵 정렬 기반의 정렬 라이브러리로는 풀 수 없을 때 (기존 라이브러리의 구조적인 개선을 거쳐야 됨)"
   ]
  },
  {
   "cell_type": "code",
   "execution_count": 11,
   "id": "c8ce2946",
   "metadata": {},
   "outputs": [
    {
     "name": "stdout",
     "output_type": "stream",
     "text": [
      "[0, 1, 2, 3, 4, 5, 6, 7, 8, 9]\n"
     ]
    }
   ],
   "source": [
    "# 정렬 라이브러리 예제 1\n",
    "array = [7, 5, 9, 0, 3, 1, 6, 2, 4, 8]\n",
    "\n",
    "result = sorted(array)\n",
    "print(result)"
   ]
  },
  {
   "cell_type": "code",
   "execution_count": 12,
   "id": "c5e5f1f9",
   "metadata": {},
   "outputs": [
    {
     "name": "stdout",
     "output_type": "stream",
     "text": [
      "[0, 1, 2, 3, 4, 5, 6, 7, 8, 9]\n"
     ]
    }
   ],
   "source": [
    "# 정렬 라이브러리 예제 2\n",
    "array.sort()\n",
    "print(array)"
   ]
  },
  {
   "cell_type": "code",
   "execution_count": 13,
   "id": "9291b21d",
   "metadata": {},
   "outputs": [
    {
     "name": "stdout",
     "output_type": "stream",
     "text": [
      "[('바나나', 2), ('당근', 3), ('사과', 5)]\n"
     ]
    }
   ],
   "source": [
    "# 정렬 라이브러리 예제 3\n",
    "array = [('바나나', 2), ('사과', 5), ('당근', 3)]\n",
    "\n",
    "def setting(data):\n",
    "    return data[1]\n",
    "\n",
    "result = sorted(array, key = setting)\n",
    "print(result)"
   ]
  },
  {
   "cell_type": "markdown",
   "id": "85b3ac30",
   "metadata": {},
   "source": [
    "#### 위에서 아래로"
   ]
  },
  {
   "cell_type": "code",
   "execution_count": 19,
   "id": "9a95f27d",
   "metadata": {},
   "outputs": [
    {
     "name": "stdout",
     "output_type": "stream",
     "text": [
      "3\n",
      "15\n",
      "27\n",
      "12\n",
      "27 15 12 "
     ]
    }
   ],
   "source": [
    "n = int(input())\n",
    "arr = []\n",
    "\n",
    "for i in range(n):\n",
    "    a = int(input())\n",
    "    arr.append(a)\n",
    "\n",
    "brr = sorted(arr, reverse = True)\n",
    "\n",
    "for i in range(n):\n",
    "    print(brr[i], end = ' ')"
   ]
  },
  {
   "cell_type": "markdown",
   "id": "7f6f1481",
   "metadata": {},
   "source": [
    "#### 성적이 낮은 순서로 학생 출력하기"
   ]
  },
  {
   "cell_type": "code",
   "execution_count": 24,
   "id": "95025665",
   "metadata": {},
   "outputs": [
    {
     "name": "stdout",
     "output_type": "stream",
     "text": [
      "2\n",
      "홍길동 95\n",
      "이순신 77\n",
      "이순신 홍길동 "
     ]
    }
   ],
   "source": [
    "n = int(input())\n",
    "arr = []\n",
    "\n",
    "for i in range(n):\n",
    "    a = tuple(input().split())\n",
    "    arr.append(a)\n",
    "\n",
    "brr = sorted(arr)\n",
    "\n",
    "for i in range(n):\n",
    "    print(brr[i][0], end = ' ')"
   ]
  },
  {
   "cell_type": "markdown",
   "id": "e427652d",
   "metadata": {},
   "source": [
    "#### 두 배열의 원소 교체"
   ]
  },
  {
   "cell_type": "code",
   "execution_count": 7,
   "id": "009d501d",
   "metadata": {
    "scrolled": true
   },
   "outputs": [
    {
     "name": "stdout",
     "output_type": "stream",
     "text": [
      "5 3\n",
      "1 2 5 4 3\n",
      "5 5 6 6 5\n",
      "26\n"
     ]
    }
   ],
   "source": [
    "n, k = map(int, input(). split())\n",
    "arr = list(map(int, input().split()))\n",
    "brr = list(map(int, input().split()))\n",
    "\n",
    "\n",
    "arr = sorted(arr)\n",
    "brr = sorted(brr, reverse = True)\n",
    "\n",
    "for i in range(k):\n",
    "    if arr[i] < brr[i]:\n",
    "        arr[i], brr[i] = brr[i], arr[i]\n",
    "    else:\n",
    "        break\n",
    "    \n",
    "print(sum(arr))"
   ]
  },
  {
   "cell_type": "markdown",
   "id": "011d3e78",
   "metadata": {},
   "source": [
    "### Chapter 7 이진 탐색"
   ]
  },
  {
   "cell_type": "markdown",
   "id": "dd3443e6",
   "metadata": {},
   "source": [
    "#### 범위를 반씩 좁혀가는 탐색"
   ]
  },
  {
   "cell_type": "markdown",
   "id": "9a3de1b9",
   "metadata": {},
   "source": [
    "#### 순차 탐색\n",
    "- 리스트 안에 있는 특정한 데이터를 찾기 위해 앞에서부터 데이터를 하나씩 차례대로 확인하는 방법\n",
    "- 정렬되지 않은 리스트에서 데이터를 찾아야 할 때 사용\n",
    "- count 함수도 내부에서 순차 탐색이 수행\n",
    "- 시간 복잡도 : 최악의 경우 O(N)"
   ]
  },
  {
   "cell_type": "code",
   "execution_count": 1,
   "id": "e1d37b9c",
   "metadata": {},
   "outputs": [
    {
     "name": "stdout",
     "output_type": "stream",
     "text": [
      "생성할 원소 개수를 입력한 다음 한 칸 띄고 찾을 문자열을 입력하세요.\n",
      "5 Dongbin\n",
      "앞서 적은 원소 개수만큼 문자열을 입력하세요. 구분은 띄어쓰기 한 칸으로 합니다.\n",
      "Haneol Jonggu Dongbin Taeil Sangwook\n",
      "3\n"
     ]
    }
   ],
   "source": [
    "# 순차 탐색 소스코드\n",
    "def sequential_search(n, target, array):\n",
    "    for i in range(n):\n",
    "        if array[i] == target:\n",
    "            return i + 1\n",
    "\n",
    "print(\"생성할 원소 개수를 입력한 다음 한 칸 띄고 찾을 문자열을 입력하세요.\")\n",
    "input_data = input().split()\n",
    "n = int(input_data[0])\n",
    "target = input_data[1]\n",
    "\n",
    "print(\"앞서 적은 원소 개수만큼 문자열을 입력하세요. 구분은 띄어쓰기 한 칸으로 합니다.\")\n",
    "array = input().split()\n",
    "\n",
    "print(sequential_search(n, target, array))"
   ]
  },
  {
   "cell_type": "markdown",
   "id": "0c6bc0c2",
   "metadata": {},
   "source": [
    "#### 이진 탐색\n",
    "- 반으로 쪼개면서 탐색하기\n",
    "- 배열 내부의 데이터가 정렬되어 있어야만 사용할 수 있는 알고리즘\n",
    "- 위치를 나타내는 변수 3개를 사용 (시작점, 끝점, 중간점)\n",
    "- 찾으려는 데이터와 중간점 위치에 있는 데이터를 반복적으로 비교해서 원하는 데이터를 찾는 방법\n",
    "- 시간 복잡도 : O(logN) / 퀵 정렬과 공통점이 있음"
   ]
  },
  {
   "cell_type": "code",
   "execution_count": 2,
   "id": "4037ad9c",
   "metadata": {},
   "outputs": [
    {
     "name": "stdout",
     "output_type": "stream",
     "text": [
      "10 7\n",
      "1 3 5 7 9 11 13 15 17 19\n",
      "4\n"
     ]
    }
   ],
   "source": [
    "# 재귀함수를 이용한 이진 탐색\n",
    "def binary_search(array, target, start, end):\n",
    "    if start > end:\n",
    "        return None\n",
    "    mid = (start + end) // 2\n",
    "    if array[mid] == target:\n",
    "        return mid\n",
    "    elif array[mid] > target:\n",
    "        return binary_search(array, target, start, mid - 1)\n",
    "    else:\n",
    "        return binary_search(array, target, mid + 1, end)\n",
    "\n",
    "n, target = list(map(int, input().split()))\n",
    "array = list(map(int, input().split()))\n",
    "\n",
    "result = binary_search(array, target, 0, n - 1)\n",
    "\n",
    "if result == None:\n",
    "    print(\"원소가 존재하지 않습니다.\")\n",
    "else:\n",
    "    print(result + 1)"
   ]
  },
  {
   "cell_type": "code",
   "execution_count": 3,
   "id": "7f8cbd76",
   "metadata": {},
   "outputs": [
    {
     "name": "stdout",
     "output_type": "stream",
     "text": [
      "10 7\n",
      "1 3 5 7 9 11 13 15 17 19\n",
      "4\n"
     ]
    }
   ],
   "source": [
    "# 반복문을 이용한 이진 탐색\n",
    "def binary_search(array, target, start, end):\n",
    "    while start <= end:\n",
    "        mid = (start + end) // 2\n",
    "        \n",
    "        if array[mid] == target:\n",
    "            return mid\n",
    "        elif array[mid] > target:\n",
    "            end = mid - 1\n",
    "        else:\n",
    "            start = mid + 1\n",
    "    return None\n",
    "\n",
    "n, target = list(map(int, input().split()))\n",
    "array = list(map(int, input().split()))\n",
    "\n",
    "result = binary_search(array, target, 0, n - 1)\n",
    "\n",
    "if result == None:\n",
    "    print(\"원소가 존재하지 않습니다.\")\n",
    "else:\n",
    "    print(result + 1)"
   ]
  },
  {
   "cell_type": "markdown",
   "id": "089e3291",
   "metadata": {},
   "source": [
    "#### 코딩 테스트에서의 이진 탐색\n",
    "- 탐색 범위가 2000만을 넘어가면 이진 탐색으로 접근해보길 권함.\n",
    "- 전 세계에 이진 탐색 알고리즘을 제대로 작성할 수 있는 사람은 10% 내외 (암기하란 뜻)"
   ]
  },
  {
   "cell_type": "markdown",
   "id": "d3c49959",
   "metadata": {},
   "source": [
    "#### 트리 자료 구조\n",
    "- 트리는 항상 정렬되어있기때문에 이진 탐색과 유사하다.\n",
    "- 루트 노드 : 트리 최상단 / 단말 노드 : 트리 최하단 / 서브 트리 : 트리에서 일부를 떼어내고 트리 구조이며 이를 뜻함\n",
    "- 계층적이고 정렬된 데이터를 다루기에 적합"
   ]
  },
  {
   "cell_type": "markdown",
   "id": "fd87a452",
   "metadata": {},
   "source": [
    "#### 이진 탐색 트리\n",
    "- 부모 노드보다 왼쪽 자식 노드가 작다.\n",
    "- 부모 노드보다 오른쪽 자식 노드가 크다.\n",
    "- 왼쪽 자식 노드 < 부모 노드 < 오른쪽 자식 노드"
   ]
  },
  {
   "cell_type": "markdown",
   "id": "087ed261",
   "metadata": {},
   "source": [
    "#### 빠르게 입력받기\n",
    "- 데이터의 개수가 1000만개를 넘어가거나, 탐색 범위의 크기가 1000억 이상이라면 이진 탐색 알고리즘을 의심\n",
    "- 이럴 때는 이진탐색을 의심하며 아래 소스코드를 외워 놓자"
   ]
  },
  {
   "cell_type": "code",
   "execution_count": 5,
   "id": "28a70268",
   "metadata": {},
   "outputs": [
    {
     "name": "stdout",
     "output_type": "stream",
     "text": [
      "\n"
     ]
    }
   ],
   "source": [
    "# 주피터에서는 stdin이 구현이 안된다...\n",
    "import sys\n",
    "\n",
    "input_data = sys.stdin.readline().rstrip()\n",
    "\n",
    "print(input_data)"
   ]
  },
  {
   "cell_type": "markdown",
   "id": "1a95f5ed",
   "metadata": {},
   "source": [
    "#### 부품 찾기"
   ]
  },
  {
   "cell_type": "code",
   "execution_count": 16,
   "id": "43acb875",
   "metadata": {},
   "outputs": [
    {
     "name": "stdout",
     "output_type": "stream",
     "text": [
      "5\n",
      "8 3 7 9 2\n",
      "3\n",
      "5 7 9\n",
      "no\n",
      "yes\n",
      "yes\n",
      "4.698369264602661\n"
     ]
    }
   ],
   "source": [
    "# 내 답안 - 교재의 집합자료형과 동일\n",
    "import time\n",
    "start_time = time.time()\n",
    "\n",
    "n = int(input())\n",
    "arr = list(map(int, input().split()))\n",
    "m = int(input())\n",
    "brr = list(map(int, input().split()))\n",
    "\n",
    "for i in range(m):\n",
    "    if brr[i] in arr:\n",
    "        print('yes')\n",
    "    else:\n",
    "        print('no')\n",
    "\n",
    "end_time = time.time()\n",
    "print(end_time - start_time)"
   ]
  },
  {
   "cell_type": "code",
   "execution_count": 12,
   "id": "d755e935",
   "metadata": {},
   "outputs": [
    {
     "name": "stdout",
     "output_type": "stream",
     "text": [
      "5\n",
      "8 3 7 9 2\n",
      "3\n",
      "5 7 9\n",
      "no yes yes 4.4572412967681885\n"
     ]
    }
   ],
   "source": [
    "# 답안 예시 - 이진 탐색\n",
    "def binary_search(array, target, start, end):\n",
    "    while start <= end:\n",
    "        mid = (start + end) // 2\n",
    "        \n",
    "        if array[mid] == target:\n",
    "            return mid\n",
    "        elif array[mid] > target:\n",
    "            end = mid - 1\n",
    "        else:\n",
    "            start = mid + 1\n",
    "    \n",
    "    return None\n",
    "\n",
    "start_time = time.time()\n",
    "\n",
    "n = int(input())\n",
    "arr = list(map(int, input().split()))\n",
    "m = int(input())\n",
    "brr = list(map(int, input().split()))\n",
    "\n",
    "for i in brr:\n",
    "    result = binary_search(arr, i, 0, n - 1)\n",
    "    if result != None:\n",
    "        print('yes', end = ' ')\n",
    "    else:\n",
    "        print('no', end = ' ')\n",
    "\n",
    "end_time = time.time()\n",
    "print(end_time - start_time)"
   ]
  },
  {
   "cell_type": "code",
   "execution_count": 13,
   "id": "bf8dc98c",
   "metadata": {},
   "outputs": [
    {
     "name": "stdout",
     "output_type": "stream",
     "text": [
      "5\n",
      "8 3 7 9 2\n",
      "3\n",
      "5 7 9\n",
      "no yes yes 4.426652669906616\n"
     ]
    }
   ],
   "source": [
    "# 답안 예시 - 계수 정렬\n",
    "start_time = time.time()\n",
    "\n",
    "n = int(input())\n",
    "array = [0] * 1000001\n",
    "\n",
    "for i in input().split():\n",
    "    array[int(i)] = 1\n",
    "\n",
    "m = int(input())\n",
    "x = list(map(int, input().split()))\n",
    "\n",
    "for i in x:\n",
    "    if array[i] == 1:\n",
    "        print('yes', end = ' ')\n",
    "    else:\n",
    "        print('no', end = ' ')\n",
    "\n",
    "end_time = time.time()\n",
    "print(end_time - start_time)"
   ]
  },
  {
   "cell_type": "markdown",
   "id": "ec280a36",
   "metadata": {},
   "source": [
    "#### 떡볶이 떡 만들기"
   ]
  },
  {
   "cell_type": "code",
   "execution_count": 8,
   "id": "99634785",
   "metadata": {},
   "outputs": [
    {
     "name": "stdout",
     "output_type": "stream",
     "text": [
      "4 6\n",
      "19 15 10 17\n",
      "19\n"
     ]
    }
   ],
   "source": [
    "# 여기 떡볶이 떡 문제 조건이 100만을 넘어가서 import sys\n",
    "# input_data = sys.stdin.readline().rstrip() 써야 되는데... 주피터라 걍 input() 씀\n",
    "n, m = map(int, input().split())\n",
    "arr = list(map(int, input().split()))\n",
    "\n",
    "start = 0\n",
    "end = max(arr)\n",
    "\n",
    "while start <= end:\n",
    "    result = 0\n",
    "    mid = (start + end) // 2\n",
    "    \n",
    "    for i in arr:\n",
    "        if i > mid:\n",
    "            total += i - mid\n",
    "    if total < m:\n",
    "        end = mid - 1\n",
    "    else:\n",
    "        result = mid\n",
    "        start = mid + 1\n",
    "    \n",
    "print(result)"
   ]
  }
 ],
 "metadata": {
  "kernelspec": {
   "display_name": "Python 3",
   "language": "python",
   "name": "python3"
  },
  "language_info": {
   "codemirror_mode": {
    "name": "ipython",
    "version": 3
   },
   "file_extension": ".py",
   "mimetype": "text/x-python",
   "name": "python",
   "nbconvert_exporter": "python",
   "pygments_lexer": "ipython3",
   "version": "3.8.8"
  }
 },
 "nbformat": 4,
 "nbformat_minor": 5
}
