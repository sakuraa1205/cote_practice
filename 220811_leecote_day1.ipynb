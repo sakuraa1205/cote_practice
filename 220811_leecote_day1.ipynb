{
 "cells": [
  {
   "cell_type": "markdown",
   "id": "7bdc5fa7",
   "metadata": {},
   "source": [
    "# 코딩테스트를 위한 Python 기초 문법"
   ]
  },
  {
   "cell_type": "markdown",
   "id": "b1f88845",
   "metadata": {},
   "source": [
    "### 정수형(integer)"
   ]
  },
  {
   "cell_type": "code",
   "execution_count": 1,
   "id": "66177daf",
   "metadata": {},
   "outputs": [
    {
     "name": "stdout",
     "output_type": "stream",
     "text": [
      "1000\n",
      "-7\n",
      "0\n"
     ]
    }
   ],
   "source": [
    "a = 1000\n",
    "print(a)\n",
    "a = -7\n",
    "print(a)\n",
    "a = 0\n",
    "print(a)"
   ]
  },
  {
   "cell_type": "markdown",
   "id": "8ea6593a",
   "metadata": {},
   "source": [
    "### 실수형(real number)"
   ]
  },
  {
   "cell_type": "code",
   "execution_count": 2,
   "id": "fe314207",
   "metadata": {},
   "outputs": [
    {
     "name": "stdout",
     "output_type": "stream",
     "text": [
      "157.93\n",
      "-1837.2\n",
      "5.0\n",
      "-0.7\n"
     ]
    }
   ],
   "source": [
    "a = 157.93\n",
    "print(a)\n",
    "a = -1837.2\n",
    "print(a)\n",
    "a = 5.\n",
    "print(a)\n",
    "a = -.7\n",
    "print(a)"
   ]
  },
  {
   "cell_type": "code",
   "execution_count": 3,
   "id": "73e9de5d",
   "metadata": {},
   "outputs": [
    {
     "name": "stdout",
     "output_type": "stream",
     "text": [
      "1000000000.0\n",
      "752.5\n",
      "3.954\n"
     ]
    }
   ],
   "source": [
    "# 지수 표현\n",
    "a = 1e9\n",
    "print(a)\n",
    "a = 75.25e1\n",
    "print(a)\n",
    "a = 3954e-3\n",
    "print(a)"
   ]
  },
  {
   "cell_type": "code",
   "execution_count": 4,
   "id": "79e8402e",
   "metadata": {},
   "outputs": [
    {
     "name": "stdout",
     "output_type": "stream",
     "text": [
      "0.8999999999999999\n",
      "False\n"
     ]
    }
   ],
   "source": [
    "# 부동소수\n",
    "a = 0.3 + 0.6\n",
    "print(a)\n",
    "\n",
    "if a == 0.9:\n",
    "    print('True')\n",
    "else:\n",
    "    print('False')"
   ]
  },
  {
   "cell_type": "code",
   "execution_count": 5,
   "id": "e945cc5d",
   "metadata": {},
   "outputs": [
    {
     "name": "stdout",
     "output_type": "stream",
     "text": [
      "0.9\n",
      "True\n"
     ]
    }
   ],
   "source": [
    "# round\n",
    "a = 0.3 + 0.6\n",
    "print(round(a, 4))\n",
    "\n",
    "if round(a, 4) == 0.9:\n",
    "    print('True')\n",
    "else:\n",
    "    print('False')"
   ]
  },
  {
   "cell_type": "markdown",
   "id": "8d14e671",
   "metadata": {},
   "source": [
    "### 수 자료형 연산"
   ]
  },
  {
   "cell_type": "code",
   "execution_count": 6,
   "id": "7dbfac1d",
   "metadata": {},
   "outputs": [
    {
     "name": "stdout",
     "output_type": "stream",
     "text": [
      "10\n",
      "4\n",
      "21\n",
      "2.3333333333333335\n",
      "1\n",
      "2\n",
      "343\n"
     ]
    }
   ],
   "source": [
    "# 사칙연산\n",
    "a = 7\n",
    "b = 3\n",
    "\n",
    "print(a + b)\n",
    "print(a - b)\n",
    "print(a * b)\n",
    "print(a / b)\n",
    "print(a % b) # 나누기 몫\n",
    "print(a //b) # 나누기 나머지\n",
    "print(a ** b) # 제곱근"
   ]
  },
  {
   "cell_type": "markdown",
   "id": "eff67f1b",
   "metadata": {},
   "source": [
    "### 리스트(list)"
   ]
  },
  {
   "cell_type": "code",
   "execution_count": 7,
   "id": "4e67e2eb",
   "metadata": {},
   "outputs": [
    {
     "name": "stdout",
     "output_type": "stream",
     "text": [
      "[1, 2, 3, 4, 5, 6, 7, 8, 9]\n",
      "5\n",
      "[]\n",
      "[]\n"
     ]
    }
   ],
   "source": [
    "# 리스트 만들기\n",
    "a = [1, 2, 3, 4, 5, 6, 7, 8, 9]\n",
    "print(a)\n",
    "print(a[4])\n",
    "\n",
    "# 빈 리스트 만들기 1\n",
    "a = []\n",
    "print(a)\n",
    "\n",
    "# 빈 리스트 만들기 2\n",
    "a = list()\n",
    "print(a)"
   ]
  },
  {
   "cell_type": "code",
   "execution_count": 8,
   "id": "63eab782",
   "metadata": {},
   "outputs": [
    {
     "name": "stdout",
     "output_type": "stream",
     "text": [
      "[0, 0, 0, 0, 0, 0, 0, 0, 0, 0]\n"
     ]
    }
   ],
   "source": [
    "# 리스트 초기화\n",
    "n = 10\n",
    "a = [0] * n\n",
    "print(a)"
   ]
  },
  {
   "cell_type": "code",
   "execution_count": 9,
   "id": "38ccc09d",
   "metadata": {},
   "outputs": [
    {
     "name": "stdout",
     "output_type": "stream",
     "text": [
      "9\n",
      "7\n",
      "[1, 2, 3, 7, 5, 6, 7, 8, 9]\n"
     ]
    }
   ],
   "source": [
    "# 리스트 인덱싱\n",
    "a = [1, 2, 3, 4, 5, 6, 7, 8, 9]\n",
    "print(a[-1])\n",
    "print(a[-3])\n",
    "a[3] = 7\n",
    "print(a)"
   ]
  },
  {
   "cell_type": "code",
   "execution_count": 10,
   "id": "fea5a54d",
   "metadata": {},
   "outputs": [
    {
     "name": "stdout",
     "output_type": "stream",
     "text": [
      "[2, 3, 4]\n"
     ]
    }
   ],
   "source": [
    "# 리스트 슬라이싱\n",
    "a = [1, 2, 3, 4, 5, 6, 7, 8, 9]\n",
    "print(a[1 : 4])"
   ]
  },
  {
   "cell_type": "code",
   "execution_count": 11,
   "id": "e1900ce3",
   "metadata": {},
   "outputs": [
    {
     "name": "stdout",
     "output_type": "stream",
     "text": [
      "[1, 3, 5, 7, 9, 11, 13, 15, 17, 19]\n",
      "[1, 4, 9, 16, 25, 36, 49, 64, 81]\n",
      "[[0, 0, 0], [0, 0, 0], [0, 0, 0]]\n",
      "[[0, 0, 0], [0, 0, 0], [0, 0, 0]]\n",
      "[[0, 5, 0], [0, 5, 0], [0, 5, 0]]\n"
     ]
    }
   ],
   "source": [
    "# 리스트 컴프리헨션\n",
    "# 0 ~ 19까지의 수 중 홀수만 출력\n",
    "arr = [i for i in range(20) if i % 2 == 1]\n",
    "print(arr)\n",
    "\n",
    "# 1 ~ 9까지의 수의 제곱 값을 출력\n",
    "arr = [i * i for i in range(1, 10)]\n",
    "print(arr)\n",
    "\n",
    "# n x m 크기의 2차원 리스트 초기화\n",
    "n = 3\n",
    "m = 3\n",
    "arr = [[0]* m for _ in range(n)] # 언더바(_)는 반복을 위한 변수값을 무시한다.\n",
    "print(arr)\n",
    "\n",
    "# 잘못된 리스트 초기화\n",
    "# 아래와 같은 실수를 방지하기 위해 리스트 컴프리헨션 추천\n",
    "n = 3\n",
    "m = 3\n",
    "arr = [[0] * m] * n\n",
    "print(arr)\n",
    "arr[1][1] = 5\n",
    "print(arr)"
   ]
  },
  {
   "cell_type": "code",
   "execution_count": 12,
   "id": "d00d2e4f",
   "metadata": {},
   "outputs": [
    {
     "name": "stdout",
     "output_type": "stream",
     "text": [
      "삽입 :  [1, 4, 3, 2]\n",
      "a 오름차순 정렬 :  [1, 2, 3, 4]\n",
      "a 내림차순 정렬 :  [4, 3, 2, 1]\n",
      "a의  원소 뒤집기 :  [1, 2, 3, 4]\n",
      "인덱스 2에 3 추가 :  [1, 2, 3, 3, 4]\n",
      "값이 3인 데이터 갯수 세기 :  2\n",
      "값이 1인 데이터 삭제 :  [2, 3, 3, 4]\n",
      "[1, 2, 4]\n"
     ]
    }
   ],
   "source": [
    "# 리스트의 여러가지 method\n",
    "a = [1, 4, 3]\n",
    "\n",
    "# 시간복잡도 O(1)\n",
    "a.append(2)\n",
    "print(\"삽입 : \", a)\n",
    "\n",
    "# 시간복잡도 O(NlogN)\n",
    "a.sort()\n",
    "print(\"a 오름차순 정렬 : \", a)\n",
    "\n",
    "a.sort(reverse = True)\n",
    "print(\"a 내림차순 정렬 : \", a)\n",
    "\n",
    "# 시간복잡도 O(N)\n",
    "a.reverse()\n",
    "print(\"a의  원소 뒤집기 : \", a)\n",
    "\n",
    "a.insert(2, 3)\n",
    "print(\"인덱스 2에 3 추가 : \", a)\n",
    "\n",
    "print(\"값이 3인 데이터 갯수 세기 : \", a.count(3))\n",
    "\n",
    "a.remove(1)\n",
    "print(\"값이 1인 데이터 삭제 : \", a)\n",
    "\n",
    "# 시간복잡도가 O(N)인 remove를 append 처럼 쓰는 법\n",
    "# 결국 리스트 컴프리헨션\n",
    "a = [1, 2, 3, 4, 5, 5, 5]\n",
    "remove_set = [3, 5]\n",
    "\n",
    "result = [i for i in a if i not in remove_set]\n",
    "print(result)"
   ]
  },
  {
   "cell_type": "markdown",
   "id": "b1425f06",
   "metadata": {},
   "source": [
    "### 문자열"
   ]
  },
  {
   "cell_type": "code",
   "execution_count": 13,
   "id": "4db8ae02",
   "metadata": {},
   "outputs": [
    {
     "name": "stdout",
     "output_type": "stream",
     "text": [
      "Don`t you know \"Python\"?\n"
     ]
    }
   ],
   "source": [
    "# 문자열 초기화\n",
    "data = 'Don`t you know \\\"Python\\\"?'\n",
    "print(data)"
   ]
  },
  {
   "cell_type": "code",
   "execution_count": 14,
   "id": "781d067e",
   "metadata": {},
   "outputs": [
    {
     "name": "stdout",
     "output_type": "stream",
     "text": [
      "Hello World\n"
     ]
    }
   ],
   "source": [
    "# 문자열 연산\n",
    "a = 'Hello'\n",
    "b = 'World'\n",
    "print(a + ' ' + b)"
   ]
  },
  {
   "cell_type": "code",
   "execution_count": 15,
   "id": "10611600",
   "metadata": {},
   "outputs": [
    {
     "name": "stdout",
     "output_type": "stream",
     "text": [
      "StringStringString\n"
     ]
    }
   ],
   "source": [
    "# 문자열 연산 2\n",
    "a = 'String'\n",
    "print(a * 3)"
   ]
  },
  {
   "cell_type": "code",
   "execution_count": 16,
   "id": "1c2a4c44",
   "metadata": {},
   "outputs": [
    {
     "name": "stdout",
     "output_type": "stream",
     "text": [
      "D\n"
     ]
    }
   ],
   "source": [
    "# 문자열 연산3\n",
    "# 문자열은 리스트와 같이 처리됨!!\n",
    "a = 'ABCDEF'\n",
    "print(a[3])"
   ]
  },
  {
   "cell_type": "markdown",
   "id": "5ad3f871",
   "metadata": {},
   "source": [
    "### 튜플"
   ]
  },
  {
   "cell_type": "code",
   "execution_count": 17,
   "id": "54c8466c",
   "metadata": {},
   "outputs": [
    {
     "ename": "TypeError",
     "evalue": "'tuple' object does not support item assignment",
     "output_type": "error",
     "traceback": [
      "\u001b[1;31m---------------------------------------------------------------------------\u001b[0m",
      "\u001b[1;31mTypeError\u001b[0m                                 Traceback (most recent call last)",
      "\u001b[1;32m<ipython-input-17-57c9ef9d7f03>\u001b[0m in \u001b[0;36m<module>\u001b[1;34m\u001b[0m\n\u001b[0;32m      5\u001b[0m \u001b[1;31m# 서로 다른 성질의 데이터를 튜플로 묶어서 관리한다.\u001b[0m\u001b[1;33m\u001b[0m\u001b[1;33m\u001b[0m\u001b[1;33m\u001b[0m\u001b[0m\n\u001b[0;32m      6\u001b[0m \u001b[0ma\u001b[0m \u001b[1;33m=\u001b[0m \u001b[1;33m(\u001b[0m\u001b[1;36m1\u001b[0m\u001b[1;33m,\u001b[0m \u001b[1;36m2\u001b[0m\u001b[1;33m,\u001b[0m \u001b[1;36m3\u001b[0m\u001b[1;33m,\u001b[0m \u001b[1;36m4\u001b[0m\u001b[1;33m)\u001b[0m\u001b[1;33m\u001b[0m\u001b[1;33m\u001b[0m\u001b[0m\n\u001b[1;32m----> 7\u001b[1;33m \u001b[0ma\u001b[0m\u001b[1;33m[\u001b[0m\u001b[1;36m2\u001b[0m\u001b[1;33m]\u001b[0m \u001b[1;33m=\u001b[0m \u001b[1;36m5\u001b[0m\u001b[1;33m\u001b[0m\u001b[1;33m\u001b[0m\u001b[0m\n\u001b[0m\u001b[0;32m      8\u001b[0m \u001b[1;33m\u001b[0m\u001b[0m\n\u001b[0;32m      9\u001b[0m \u001b[0mprint\u001b[0m\u001b[1;33m(\u001b[0m\u001b[0ma\u001b[0m\u001b[1;33m)\u001b[0m\u001b[1;33m\u001b[0m\u001b[1;33m\u001b[0m\u001b[0m\n",
      "\u001b[1;31mTypeError\u001b[0m: 'tuple' object does not support item assignment"
     ]
    }
   ],
   "source": [
    "# 튜플은 값 변경 불가\n",
    "# 튜플은 () 소괄호\n",
    "# 튜플 공간복잡도 < 리스트 공간복잡도\n",
    "# 다익스트라 최단 경로 알고리즘에서는 '비용' & '노드번호'라는 \n",
    "# 서로 다른 성질의 데이터를 튜플로 묶어서 관리한다.\n",
    "a = (1, 2, 3, 4)\n",
    "a[2] = 5\n",
    "\n",
    "print(a)"
   ]
  },
  {
   "cell_type": "markdown",
   "id": "607aa3a3",
   "metadata": {},
   "source": [
    "### 딕셔너리"
   ]
  },
  {
   "cell_type": "code",
   "execution_count": 18,
   "id": "d56d439b",
   "metadata": {},
   "outputs": [
    {
     "name": "stdout",
     "output_type": "stream",
     "text": [
      "{'사과': 'Apple', '바나나': 'Banana', '코코넛': 'Coconut'}\n"
     ]
    }
   ],
   "source": [
    "# 딕셔너리는 데이터 검색 및 수정에 있어서 O(!)의 시간에 처리할 수 있다.\n",
    "data = dict()\n",
    "data['사과'] = 'Apple'\n",
    "data['바나나'] = 'Banana'\n",
    "data['코코넛'] = 'Coconut'\n",
    "\n",
    "print(data)"
   ]
  },
  {
   "cell_type": "code",
   "execution_count": 19,
   "id": "423e201e",
   "metadata": {},
   "outputs": [
    {
     "name": "stdout",
     "output_type": "stream",
     "text": [
      "\"사과\"를 key로 가지는 데이터가 존재합니다.\n"
     ]
    }
   ],
   "source": [
    "# 존재하는 지 검사\n",
    "data = dict()\n",
    "data['사과'] = 'Apple'\n",
    "data['바나나'] = 'Banana'\n",
    "data['코코넛'] = 'Coconut'\n",
    "\n",
    "if '사과' in data:\n",
    "    print('\"사과\"를 key로 가지는 데이터가 존재합니다.')"
   ]
  },
  {
   "cell_type": "code",
   "execution_count": 20,
   "id": "3470cc5d",
   "metadata": {},
   "outputs": [
    {
     "name": "stdout",
     "output_type": "stream",
     "text": [
      "dict_keys(['사과', '바나나', '코코넛']) dict_values(['Apple', 'Banana', 'Coconut'])\n",
      "Apple\n",
      "Banana\n",
      "Coconut\n"
     ]
    }
   ],
   "source": [
    "# 딕셔너리 관련 함수\n",
    "key = data.keys()\n",
    "value = data.values()\n",
    "print(key, value)\n",
    "\n",
    "for key in key:\n",
    "    print(data[key])"
   ]
  },
  {
   "cell_type": "markdown",
   "id": "7671def8",
   "metadata": {},
   "source": [
    "### 집합 자료형 (set)"
   ]
  },
  {
   "cell_type": "code",
   "execution_count": 21,
   "id": "8823872a",
   "metadata": {},
   "outputs": [
    {
     "name": "stdout",
     "output_type": "stream",
     "text": [
      "{1, 2, 3, 4, 5}\n",
      "{1, 2, 3, 4, 5}\n"
     ]
    }
   ],
   "source": [
    "# set 자료 초기화 방법\n",
    "# set : 중복 허용 x, 순서 x\n",
    "data = set([1, 1, 2, 3, 4, 4, 5])\n",
    "print(data)\n",
    "\n",
    "data1 = {1, 1, 2, 3, 4, 4, 5}\n",
    "print(data1)"
   ]
  },
  {
   "cell_type": "code",
   "execution_count": 22,
   "id": "ed02dcbb",
   "metadata": {},
   "outputs": [
    {
     "name": "stdout",
     "output_type": "stream",
     "text": [
      "{1, 2, 3, 4, 5, 6, 7}\n",
      "{3, 4, 5}\n",
      "{1, 2}\n"
     ]
    }
   ],
   "source": [
    "# 집합 자료형의 연산\n",
    "a = {1, 2, 3, 4, 5}\n",
    "b = {3, 4, 5, 6, 7}\n",
    "\n",
    "print(a | b)\n",
    "print(a & b)\n",
    "print(a - b)"
   ]
  },
  {
   "cell_type": "code",
   "execution_count": 23,
   "id": "a0efdd6e",
   "metadata": {},
   "outputs": [
    {
     "name": "stdout",
     "output_type": "stream",
     "text": [
      "{1, 2, 3}\n",
      "{1, 2, 3, 4}\n",
      "{1, 2, 3, 4, 5, 6}\n",
      "{1, 2, 4, 5, 6}\n"
     ]
    }
   ],
   "source": [
    "# 집합 자료형 관련 함수\n",
    "# add, remove 는 시간복잡도 O(1)\n",
    "data = {1, 2, 3}\n",
    "print(data)\n",
    "\n",
    "data.add(4)\n",
    "print(data)\n",
    "\n",
    "data.update([5, 6])\n",
    "print(data)\n",
    "\n",
    "data.remove(3)\n",
    "print(data)"
   ]
  },
  {
   "cell_type": "markdown",
   "id": "3e44084f",
   "metadata": {},
   "source": [
    "### 조건문"
   ]
  },
  {
   "cell_type": "code",
   "execution_count": 24,
   "id": "823a9aff",
   "metadata": {},
   "outputs": [
    {
     "name": "stdout",
     "output_type": "stream",
     "text": [
      "15\n"
     ]
    }
   ],
   "source": [
    "x = 15\n",
    "\n",
    "if x >= 10:\n",
    "    print(x)"
   ]
  },
  {
   "cell_type": "code",
   "execution_count": 25,
   "id": "9d7c74a0",
   "metadata": {},
   "outputs": [
    {
     "name": "stdout",
     "output_type": "stream",
     "text": [
      "B\n"
     ]
    }
   ],
   "source": [
    "score = 85\n",
    "\n",
    "if score >= 90:\n",
    "    print('A')\n",
    "elif score >= 80:\n",
    "    print('B')\n",
    "elif score >= 70:\n",
    "    print('C')\n",
    "else:\n",
    "    print('F')"
   ]
  },
  {
   "cell_type": "markdown",
   "id": "3073ba3e",
   "metadata": {},
   "source": [
    "##### 조건문 비교연산자\n",
    "- X == Y : X와 Y가 서로 같을 때 참(True)이다.\n",
    "- X != Y : X와 Y가 서로 다를 때 참(True)이다.\n",
    "- X > Y : X가 Y보다 클 때 참(True)이다.\n",
    "- X < Y : X가 Y보다 작을 때 참(True)이다.\n",
    "- X >= Y : X가 Y보다 크거나 같을 때 참(True)이다.\n",
    "- X <= Y : X가 Y보다 작거나 같을 때 참(True)이다."
   ]
  },
  {
   "cell_type": "markdown",
   "id": "b8f6747b",
   "metadata": {},
   "source": [
    "##### 조건문 논리 연산자\n",
    "- X and Y : X와 Y가 모두 참(True)일 때 참(True)이다.\n",
    "- X or Y : X와 Y 중에 하나만 참(True)이어도 참(True)이다.\n",
    "- not X : X가 거짓(False)일 때 참(True)이다."
   ]
  },
  {
   "cell_type": "markdown",
   "id": "021c2313",
   "metadata": {},
   "source": [
    "##### 파이썬 기타 연산자\n",
    "- X in 리스트 : 리스트 안에 X가 들어있으면 참(True)이다.\n",
    "- X not in 문자열 : 문자열 안에 X가 들어있지 않을 때 참(True)이다."
   ]
  },
  {
   "cell_type": "code",
   "execution_count": 26,
   "id": "aa91426a",
   "metadata": {},
   "outputs": [
    {
     "name": "stdout",
     "output_type": "stream",
     "text": [
      "프로그램을 종료합니다.\n"
     ]
    }
   ],
   "source": [
    "# 조건문 pass\n",
    "score = 85\n",
    "\n",
    "if score >= 80:\n",
    "    pass\n",
    "else:\n",
    "    print('성적이 80점 미만입니다.')\n",
    "    \n",
    "print('프로그램을 종료합니다.')"
   ]
  },
  {
   "cell_type": "code",
   "execution_count": 27,
   "id": "e06ac5fe",
   "metadata": {},
   "outputs": [
    {
     "name": "stdout",
     "output_type": "stream",
     "text": [
      "Success\n"
     ]
    }
   ],
   "source": [
    "# 조건문 스킬\n",
    "score = 85\n",
    "\n",
    "if score >= 80: result = \"Success\"\n",
    "else: result = \"Fail\"\n",
    "    \n",
    "print(result)"
   ]
  },
  {
   "cell_type": "code",
   "execution_count": 28,
   "id": "afe840d2",
   "metadata": {},
   "outputs": [
    {
     "name": "stdout",
     "output_type": "stream",
     "text": [
      "Success\n"
     ]
    }
   ],
   "source": [
    "# 조건문 스킬 2\n",
    "score = 85\n",
    "\n",
    "result = 'Success' if score >= 80 else \"Fail\"\n",
    "\n",
    "print(result)"
   ]
  },
  {
   "cell_type": "markdown",
   "id": "b2861e6b",
   "metadata": {},
   "source": [
    "### 반복문"
   ]
  },
  {
   "cell_type": "code",
   "execution_count": 29,
   "id": "1a7edd00",
   "metadata": {},
   "outputs": [
    {
     "name": "stdout",
     "output_type": "stream",
     "text": [
      "45\n"
     ]
    }
   ],
   "source": [
    "# while 문\n",
    "i = 1\n",
    "result = 0\n",
    "\n",
    "while i <= 9:\n",
    "    result += i\n",
    "    i += 1\n",
    "\n",
    "print(result)"
   ]
  },
  {
   "cell_type": "code",
   "execution_count": 30,
   "id": "55a0a993",
   "metadata": {},
   "outputs": [
    {
     "name": "stdout",
     "output_type": "stream",
     "text": [
      "25\n"
     ]
    }
   ],
   "source": [
    "# while 문 2\n",
    "i = 1\n",
    "result = 0\n",
    "\n",
    "while i <= 9:\n",
    "    if i % 2 == 1:\n",
    "        result += i\n",
    "    i += 1\n",
    "\n",
    "print(result)"
   ]
  },
  {
   "cell_type": "code",
   "execution_count": 31,
   "id": "333d28ac",
   "metadata": {},
   "outputs": [
    {
     "name": "stdout",
     "output_type": "stream",
     "text": [
      "45\n"
     ]
    }
   ],
   "source": [
    "# for 문\n",
    "result = 0\n",
    "\n",
    "for i in range(1, 10):\n",
    "    result += i\n",
    "    \n",
    "print(result)"
   ]
  },
  {
   "cell_type": "code",
   "execution_count": 32,
   "id": "3984b569",
   "metadata": {},
   "outputs": [
    {
     "name": "stdout",
     "output_type": "stream",
     "text": [
      "1 번 학생은 합격입니다.\n",
      "2 번 학생은 합격입니다.\n",
      "5 번 학생은 합격입니다.\n"
     ]
    }
   ],
   "source": [
    "# for 문 2\n",
    "scores = [90, 85, 77, 65, 97]\n",
    "\n",
    "for i in range(5):\n",
    "    if scores[i] >= 80:\n",
    "        print(i + 1, '번 학생은 합격입니다.')"
   ]
  },
  {
   "cell_type": "code",
   "execution_count": 33,
   "id": "119996ca",
   "metadata": {},
   "outputs": [
    {
     "name": "stdout",
     "output_type": "stream",
     "text": [
      "1 번 학생은 합격입니다.\n",
      "5 번 학생은 합격입니다.\n"
     ]
    }
   ],
   "source": [
    "# for 문 3\n",
    "cheating_list = {2, 4}\n",
    "\n",
    "for i in range(5):\n",
    "    if i + 1 in cheating_list:\n",
    "        continue\n",
    "    if scores[i] > 80:\n",
    "        print(i + 1, '번 학생은 합격입니다.')"
   ]
  },
  {
   "cell_type": "code",
   "execution_count": 35,
   "id": "503089f3",
   "metadata": {},
   "outputs": [
    {
     "name": "stdout",
     "output_type": "stream",
     "text": [
      "1 X 1 = 1\n",
      "1 X 2 = 2\n",
      "1 X 3 = 3\n",
      "1 X 4 = 4\n",
      "1 X 5 = 5\n",
      "1 X 6 = 6\n",
      "1 X 7 = 7\n",
      "1 X 8 = 8\n",
      "1 X 9 = 9\n",
      "\n",
      "2 X 1 = 2\n",
      "2 X 2 = 4\n",
      "2 X 3 = 6\n",
      "2 X 4 = 8\n",
      "2 X 5 = 10\n",
      "2 X 6 = 12\n",
      "2 X 7 = 14\n",
      "2 X 8 = 16\n",
      "2 X 9 = 18\n",
      "\n",
      "3 X 1 = 3\n",
      "3 X 2 = 6\n",
      "3 X 3 = 9\n",
      "3 X 4 = 12\n",
      "3 X 5 = 15\n",
      "3 X 6 = 18\n",
      "3 X 7 = 21\n",
      "3 X 8 = 24\n",
      "3 X 9 = 27\n",
      "\n",
      "4 X 1 = 4\n",
      "4 X 2 = 8\n",
      "4 X 3 = 12\n",
      "4 X 4 = 16\n",
      "4 X 5 = 20\n",
      "4 X 6 = 24\n",
      "4 X 7 = 28\n",
      "4 X 8 = 32\n",
      "4 X 9 = 36\n",
      "\n",
      "5 X 1 = 5\n",
      "5 X 2 = 10\n",
      "5 X 3 = 15\n",
      "5 X 4 = 20\n",
      "5 X 5 = 25\n",
      "5 X 6 = 30\n",
      "5 X 7 = 35\n",
      "5 X 8 = 40\n",
      "5 X 9 = 45\n",
      "\n",
      "6 X 1 = 6\n",
      "6 X 2 = 12\n",
      "6 X 3 = 18\n",
      "6 X 4 = 24\n",
      "6 X 5 = 30\n",
      "6 X 6 = 36\n",
      "6 X 7 = 42\n",
      "6 X 8 = 48\n",
      "6 X 9 = 54\n",
      "\n",
      "7 X 1 = 7\n",
      "7 X 2 = 14\n",
      "7 X 3 = 21\n",
      "7 X 4 = 28\n",
      "7 X 5 = 35\n",
      "7 X 6 = 42\n",
      "7 X 7 = 49\n",
      "7 X 8 = 56\n",
      "7 X 9 = 63\n",
      "\n",
      "8 X 1 = 8\n",
      "8 X 2 = 16\n",
      "8 X 3 = 24\n",
      "8 X 4 = 32\n",
      "8 X 5 = 40\n",
      "8 X 6 = 48\n",
      "8 X 7 = 56\n",
      "8 X 8 = 64\n",
      "8 X 9 = 72\n",
      "\n",
      "9 X 1 = 9\n",
      "9 X 2 = 18\n",
      "9 X 3 = 27\n",
      "9 X 4 = 36\n",
      "9 X 5 = 45\n",
      "9 X 6 = 54\n",
      "9 X 7 = 63\n",
      "9 X 8 = 72\n",
      "9 X 9 = 81\n",
      "\n"
     ]
    }
   ],
   "source": [
    "# for 문 4\n",
    "for i in range(1, 10):\n",
    "    for j in range(1, 10):\n",
    "        print(i, 'X', j, '=', i * j)\n",
    "    print()"
   ]
  },
  {
   "cell_type": "markdown",
   "id": "3356810a",
   "metadata": {},
   "source": [
    "### 함수"
   ]
  },
  {
   "cell_type": "code",
   "execution_count": 36,
   "id": "b975c55b",
   "metadata": {},
   "outputs": [
    {
     "name": "stdout",
     "output_type": "stream",
     "text": [
      "10\n"
     ]
    }
   ],
   "source": [
    "def add(a, b):\n",
    "    return a + b\n",
    "\n",
    "print(add(3, 7))"
   ]
  },
  {
   "cell_type": "code",
   "execution_count": 37,
   "id": "d2bdc69a",
   "metadata": {},
   "outputs": [
    {
     "name": "stdout",
     "output_type": "stream",
     "text": [
      "10\n"
     ]
    }
   ],
   "source": [
    "def add(a, b):\n",
    "    print(a + b)\n",
    "\n",
    "add(3, 7)"
   ]
  },
  {
   "cell_type": "code",
   "execution_count": 38,
   "id": "c585bff2",
   "metadata": {},
   "outputs": [
    {
     "name": "stdout",
     "output_type": "stream",
     "text": [
      "10\n"
     ]
    }
   ],
   "source": [
    "add(b = 7, a = 3)"
   ]
  },
  {
   "cell_type": "code",
   "execution_count": 46,
   "id": "7d5f47be",
   "metadata": {},
   "outputs": [
    {
     "name": "stdout",
     "output_type": "stream",
     "text": [
      "10\n"
     ]
    }
   ],
   "source": [
    "# 함수 밖에서 접근하기\n",
    "a = 0\n",
    "\n",
    "def func():\n",
    "    global a\n",
    "    a += 1\n",
    "\n",
    "for i in range(10):\n",
    "    func()\n",
    "\n",
    "print(a)"
   ]
  },
  {
   "cell_type": "code",
   "execution_count": 47,
   "id": "d6a71473",
   "metadata": {},
   "outputs": [
    {
     "name": "stdout",
     "output_type": "stream",
     "text": [
      "10\n"
     ]
    }
   ],
   "source": [
    "# 람다\n",
    "add(3, 7)"
   ]
  },
  {
   "cell_type": "code",
   "execution_count": 48,
   "id": "b374aae2",
   "metadata": {},
   "outputs": [
    {
     "name": "stdout",
     "output_type": "stream",
     "text": [
      "10\n"
     ]
    }
   ],
   "source": [
    "print((lambda a, b : a + b)(3, 7))"
   ]
  },
  {
   "cell_type": "markdown",
   "id": "e9643a38",
   "metadata": {},
   "source": [
    "### 입력\n",
    "- input()\n",
    "- map(int, input(),split())\n",
    "- sys.stdin.readline()"
   ]
  },
  {
   "cell_type": "code",
   "execution_count": 60,
   "id": "d0451085",
   "metadata": {},
   "outputs": [
    {
     "name": "stdout",
     "output_type": "stream",
     "text": [
      "5\n",
      "65 90 75 34 99\n",
      "[99, 34, 75, 90, 65]\n",
      "[99, 90, 75, 65, 34]\n"
     ]
    }
   ],
   "source": [
    "# 전형적인 소스코드\n",
    "n = input()\n",
    "data = list(map(int, input().split()))\n",
    "\n",
    "data.reverse()\n",
    "print(data)\n",
    "\n",
    "data.sort(reverse = True)\n",
    "print(data)"
   ]
  },
  {
   "cell_type": "code",
   "execution_count": 61,
   "id": "ae115a7d",
   "metadata": {},
   "outputs": [
    {
     "name": "stdout",
     "output_type": "stream",
     "text": [
      "3 5 7\n",
      "3 5 7\n"
     ]
    }
   ],
   "source": [
    "# 입력할 정수의 갯수를 알 때\n",
    "a, b, c = map(int, input().split())\n",
    "\n",
    "print(a, b, c)"
   ]
  },
  {
   "cell_type": "code",
   "execution_count": 64,
   "id": "9f2dab45",
   "metadata": {},
   "outputs": [
    {
     "name": "stdout",
     "output_type": "stream",
     "text": [
      "\n"
     ]
    }
   ],
   "source": [
    "# sys.readline()\n",
    "import sys\n",
    "\n",
    "data = sys.stdin.readline().rstrip()\n",
    "print(data)"
   ]
  },
  {
   "cell_type": "markdown",
   "id": "4bf24e3d",
   "metadata": {},
   "source": [
    "### 출력"
   ]
  },
  {
   "cell_type": "code",
   "execution_count": 65,
   "id": "cfa933ec",
   "metadata": {},
   "outputs": [
    {
     "name": "stdout",
     "output_type": "stream",
     "text": [
      "3 5\n"
     ]
    }
   ],
   "source": [
    "# 공백 출력\n",
    "print(a, b)"
   ]
  },
  {
   "cell_type": "code",
   "execution_count": 66,
   "id": "dd888d04",
   "metadata": {},
   "outputs": [
    {
     "name": "stdout",
     "output_type": "stream",
     "text": [
      "3\n",
      "5\n"
     ]
    }
   ],
   "source": [
    "# 줄 바꿈\n",
    "print(a)\n",
    "print(b)"
   ]
  },
  {
   "cell_type": "code",
   "execution_count": 69,
   "id": "36f8d778",
   "metadata": {},
   "outputs": [
    {
     "name": "stdout",
     "output_type": "stream",
     "text": [
      "정답은 7입니다.\n",
      "정답은 7입니다.\n",
      "정답은 7입니다.\n"
     ]
    }
   ],
   "source": [
    "# 변수를 문자열로\n",
    "answer = 7\n",
    "\n",
    "print(f'정답은 {answer}입니다.')\n",
    "print('정답은 %d입니다.'%answer)\n",
    "print('정답은 ' + str(answer) + '입니다.')"
   ]
  },
  {
   "cell_type": "markdown",
   "id": "183da423",
   "metadata": {},
   "source": [
    "### 라이브러리"
   ]
  },
  {
   "cell_type": "code",
   "execution_count": 80,
   "id": "e0aa9386",
   "metadata": {},
   "outputs": [
    {
     "name": "stdout",
     "output_type": "stream",
     "text": [
      "15\n",
      "1\n",
      "5\n",
      "56\n"
     ]
    }
   ],
   "source": [
    "# 내장함수\n",
    "a = [1, 2, 3, 4, 5]\n",
    "\n",
    "print(sum(a))\n",
    "print(min(a))\n",
    "print(max(a))\n",
    "print(eval('(3 + 5) * 7'))"
   ]
  },
  {
   "cell_type": "code",
   "execution_count": 86,
   "id": "81ae05af",
   "metadata": {},
   "outputs": [
    {
     "name": "stdout",
     "output_type": "stream",
     "text": [
      "[1, 2, 3, 4, 5]\n",
      "[5, 4, 3, 2, 1]\n",
      "[1, 2, 3, 4, 5]\n"
     ]
    }
   ],
   "source": [
    "# 오름차순\n",
    "print(sorted(a))\n",
    "# 내림차순\n",
    "print(sorted(a, reverse = True))\n",
    "# 리스트 오름차순\n",
    "a.sort()\n",
    "print(a)"
   ]
  },
  {
   "cell_type": "code",
   "execution_count": 85,
   "id": "115667e1",
   "metadata": {},
   "outputs": [
    {
     "name": "stdout",
     "output_type": "stream",
     "text": [
      "[('이순신', 75), ('아무개', 50), ('홍길동', 35)]\n"
     ]
    }
   ],
   "source": [
    "# 리스트 내의 튜플 내림차순\n",
    "result = sorted([('홍길동', 35), ('이순신', 75), ('아무개', 50)], key = lambda x: x[1], reverse = True)\n",
    "print(result)"
   ]
  },
  {
   "cell_type": "markdown",
   "id": "a1acec2a",
   "metadata": {},
   "source": [
    "### itertools"
   ]
  },
  {
   "cell_type": "code",
   "execution_count": 94,
   "id": "ed74e4e4",
   "metadata": {},
   "outputs": [
    {
     "name": "stdout",
     "output_type": "stream",
     "text": [
      "[('A', 'B', 'C'), ('A', 'C', 'B'), ('B', 'A', 'C'), ('B', 'C', 'A'), ('C', 'A', 'B'), ('C', 'B', 'A')]\n"
     ]
    }
   ],
   "source": [
    "# permutations\n",
    "# 튜플 내 중복 불가, 순서 상관 x\n",
    "from itertools import permutations\n",
    "data = ['A', 'B', 'C']\n",
    "result = list(permutations(data, 3))\n",
    "print(result)"
   ]
  },
  {
   "cell_type": "code",
   "execution_count": 89,
   "id": "6c2f2b91",
   "metadata": {},
   "outputs": [
    {
     "name": "stdout",
     "output_type": "stream",
     "text": [
      "[('A', 'B'), ('A', 'C'), ('B', 'C')]\n"
     ]
    }
   ],
   "source": [
    "# combinations\n",
    "# 튜플 내 중복 불가, 순서 상관 o\n",
    "from itertools import combinations\n",
    "result = list(combinations(data, 2))\n",
    "print(result)"
   ]
  },
  {
   "cell_type": "code",
   "execution_count": 92,
   "id": "54fad6bc",
   "metadata": {},
   "outputs": [
    {
     "name": "stdout",
     "output_type": "stream",
     "text": [
      "[('A', 'A'), ('A', 'B'), ('A', 'C'), ('B', 'A'), ('B', 'B'), ('B', 'C'), ('C', 'A'), ('C', 'B'), ('C', 'C')]\n"
     ]
    }
   ],
   "source": [
    "# product\n",
    "# 튜플 내 중복 가능, 순서 상관 x\n",
    "from itertools import product\n",
    "result = list(product(data, repeat = 2))\n",
    "print(result)"
   ]
  },
  {
   "cell_type": "code",
   "execution_count": 95,
   "id": "4980446d",
   "metadata": {},
   "outputs": [
    {
     "name": "stdout",
     "output_type": "stream",
     "text": [
      "[('A', 'A'), ('A', 'B'), ('A', 'C'), ('B', 'B'), ('B', 'C'), ('C', 'C')]\n"
     ]
    }
   ],
   "source": [
    "# combinations_with_replacement\n",
    "# 튜플 내 중복 가능, 순서 상관 o\n",
    "from itertools import combinations_with_replacement\n",
    "result = list(combinations_with_replacement(data, 2))\n",
    "print(result)"
   ]
  }
 ],
 "metadata": {
  "kernelspec": {
   "display_name": "Python 3",
   "language": "python",
   "name": "python3"
  },
  "language_info": {
   "codemirror_mode": {
    "name": "ipython",
    "version": 3
   },
   "file_extension": ".py",
   "mimetype": "text/x-python",
   "name": "python",
   "nbconvert_exporter": "python",
   "pygments_lexer": "ipython3",
   "version": "3.8.8"
  }
 },
 "nbformat": 4,
 "nbformat_minor": 5
}
