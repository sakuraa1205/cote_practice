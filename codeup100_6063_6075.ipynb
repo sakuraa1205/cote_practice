{
 "cells": [
  {
   "cell_type": "markdown",
   "id": "a0f31ef1",
   "metadata": {},
   "source": [
    "# 6063 : [기초-3항연산] 정수 2개 입력받아 큰 값 출력하기"
   ]
  },
  {
   "cell_type": "code",
   "execution_count": 1,
   "id": "5fc7d6aa",
   "metadata": {},
   "outputs": [
    {
     "name": "stdout",
     "output_type": "stream",
     "text": [
      "123 456\n",
      "456\n"
     ]
    }
   ],
   "source": [
    "a, b = input().split()\n",
    "a, b = int(a), int(b)\n",
    "\n",
    "if a > b:\n",
    "    print(a)\n",
    "else:\n",
    "    print(b)"
   ]
  },
  {
   "cell_type": "markdown",
   "id": "dbedc8e1",
   "metadata": {},
   "source": [
    "# 6064 : [기초-3항연산] 정수 3개 입력받아 가장 작은 값 출력하기"
   ]
  },
  {
   "cell_type": "code",
   "execution_count": 7,
   "id": "f7f34b52",
   "metadata": {},
   "outputs": [
    {
     "name": "stdout",
     "output_type": "stream",
     "text": [
      "1 2 3\n",
      "1\n"
     ]
    }
   ],
   "source": [
    "a, b, c = input().split()\n",
    "a, b, c = int(a), int(b), int(c)\n",
    "\n",
    "minimum = a\n",
    "\n",
    "if b < minimum:\n",
    "    minimum = b\n",
    "if c < minimum:\n",
    "    minimum = c\n",
    "\n",
    "print(minimum)"
   ]
  },
  {
   "cell_type": "markdown",
   "id": "98f1b5e2",
   "metadata": {},
   "source": [
    "# 6065 : [기초-조건/선택실행구조] 정수 3개 입력받아 짝수만 출력하기"
   ]
  },
  {
   "cell_type": "code",
   "execution_count": 8,
   "id": "f0168bc9",
   "metadata": {},
   "outputs": [
    {
     "name": "stdout",
     "output_type": "stream",
     "text": [
      "1 2 4\n",
      "2\n",
      "4\n"
     ]
    }
   ],
   "source": [
    "a, b, c = input().split()\n",
    "a, b, c = int(a), int(b), int(c)\n",
    "\n",
    "if a % 2 == 0:\n",
    "    print(a)\n",
    "if b % 2 == 0:\n",
    "    print(b)\n",
    "if c % 2 == 0:\n",
    "    print(c)"
   ]
  },
  {
   "cell_type": "markdown",
   "id": "43a16210",
   "metadata": {},
   "source": [
    "# 6066 : [기초-조건/선택실행구조] 정수 3개 입력받아 짝/홀 출력하기"
   ]
  },
  {
   "cell_type": "code",
   "execution_count": 1,
   "id": "7540a1fb",
   "metadata": {},
   "outputs": [
    {
     "name": "stdout",
     "output_type": "stream",
     "text": [
      "1 2 8\n",
      "odd\n",
      "even\n",
      "even\n"
     ]
    }
   ],
   "source": [
    "a, b, c = input().split()\n",
    "a, b, c = int(a), int(b), int(c)\n",
    "\n",
    "if a % 2 == 0:\n",
    "    print('even')\n",
    "else:\n",
    "    print('odd')\n",
    "    \n",
    "if b % 2 == 0:\n",
    "    print('even')\n",
    "else:\n",
    "    print('odd')\n",
    "    \n",
    "if c % 2 == 0:\n",
    "    print('even')\n",
    "else:\n",
    "    print('odd')"
   ]
  },
  {
   "cell_type": "markdown",
   "id": "cc391a1f",
   "metadata": {},
   "source": [
    "# 6067 : [기초-조건/선택실행구조] 정수 1개 입력받아 분류하기"
   ]
  },
  {
   "cell_type": "code",
   "execution_count": 2,
   "id": "41226730",
   "metadata": {},
   "outputs": [
    {
     "name": "stdout",
     "output_type": "stream",
     "text": [
      "-2147483648\n",
      "A\n"
     ]
    }
   ],
   "source": [
    "a = int(input())\n",
    "\n",
    "if a < 0:\n",
    "    if a % 2 == 0:\n",
    "        print('A')\n",
    "    else:\n",
    "        print('B')\n",
    "else:\n",
    "    if a % 2 == 0:\n",
    "        print('C')\n",
    "    else:\n",
    "        print('D')"
   ]
  },
  {
   "cell_type": "markdown",
   "id": "657a4d65",
   "metadata": {},
   "source": [
    "# 6068 : [기초-조건/선택실행구조] 점수 입력받아 평가 출력하기"
   ]
  },
  {
   "cell_type": "code",
   "execution_count": 6,
   "id": "6c5891dd",
   "metadata": {},
   "outputs": [
    {
     "name": "stdout",
     "output_type": "stream",
     "text": [
      "73\n",
      "B\n"
     ]
    }
   ],
   "source": [
    "a = int(input())\n",
    "\n",
    "if 100 >= a >= 90:\n",
    "    print('A')\n",
    "elif 89 >= a >= 70:\n",
    "    print('B')\n",
    "elif 69 >= a >= 40:\n",
    "    print('C')\n",
    "else:\n",
    "    print('D')"
   ]
  },
  {
   "cell_type": "markdown",
   "id": "e0aa1a6e",
   "metadata": {},
   "source": [
    "# 6069 : [기초-조건/선택실행구조] 평가 입력받아 다르게 출력하기"
   ]
  },
  {
   "cell_type": "code",
   "execution_count": 13,
   "id": "5afdabda",
   "metadata": {},
   "outputs": [
    {
     "name": "stdout",
     "output_type": "stream",
     "text": [
      "A\n",
      "best!!!\n"
     ]
    }
   ],
   "source": [
    "a = input()\n",
    "\n",
    "if a == 'A':\n",
    "    print('best!!!')\n",
    "elif a == 'B':\n",
    "    print('good!!')\n",
    "elif a == 'C':\n",
    "    print('run!')\n",
    "elif a == 'D':\n",
    "    print('slowly~')\n",
    "else:\n",
    "    print('what?')\n",
    "    "
   ]
  },
  {
   "cell_type": "markdown",
   "id": "d0bf0192",
   "metadata": {},
   "source": [
    "# 6070 : [기초-조건/선택실행구조] 월 입력받아 계절 출력하기"
   ]
  },
  {
   "cell_type": "code",
   "execution_count": 15,
   "id": "ffa54b42",
   "metadata": {},
   "outputs": [
    {
     "name": "stdout",
     "output_type": "stream",
     "text": [
      "12\n",
      "winter\n"
     ]
    }
   ],
   "source": [
    "a = int(input())\n",
    "\n",
    "if a // 3 == 1:\n",
    "    print('spring')\n",
    "elif a // 3 == 2:\n",
    "    print('summer')\n",
    "elif a // 3 == 3:\n",
    "    print('fall')\n",
    "else:\n",
    "    print('winter')"
   ]
  },
  {
   "cell_type": "markdown",
   "id": "a11e3462",
   "metadata": {},
   "source": [
    "# 6071 : [기초-반복실행구조] 0 입력될 때까지 무한 출력하기"
   ]
  },
  {
   "cell_type": "code",
   "execution_count": 16,
   "id": "f1a5a721",
   "metadata": {},
   "outputs": [
    {
     "name": "stdout",
     "output_type": "stream",
     "text": [
      "7\n",
      "7\n",
      "4\n",
      "4\n",
      "2\n",
      "2\n",
      "3\n",
      "3\n",
      "0\n"
     ]
    }
   ],
   "source": [
    "while True:\n",
    "    a = int(input())\n",
    "    if a == 0:\n",
    "        break\n",
    "    else:\n",
    "        print(a)"
   ]
  },
  {
   "cell_type": "markdown",
   "id": "49f40374",
   "metadata": {},
   "source": [
    "# 6072 : [기초-반복실행구조] 정수 1개 입력받아 카운트다운 출력하기1"
   ]
  },
  {
   "cell_type": "code",
   "execution_count": 20,
   "id": "24f219fd",
   "metadata": {},
   "outputs": [
    {
     "name": "stdout",
     "output_type": "stream",
     "text": [
      "5\n",
      "5\n",
      "4\n",
      "3\n",
      "2\n",
      "1\n"
     ]
    }
   ],
   "source": [
    "a = int(input())\n",
    "for i in range(a + 1):\n",
    "    if a == 0:\n",
    "        break\n",
    "    else:\n",
    "        print(a)\n",
    "        a = a - 1"
   ]
  },
  {
   "cell_type": "markdown",
   "id": "fca66a3d",
   "metadata": {},
   "source": [
    "# 6073 : [기초-반복실행구조] 정수 1개 입력받아 카운트다운 출력하기2"
   ]
  },
  {
   "cell_type": "code",
   "execution_count": 21,
   "id": "3cdacd89",
   "metadata": {},
   "outputs": [
    {
     "name": "stdout",
     "output_type": "stream",
     "text": [
      "5\n",
      "4\n",
      "3\n",
      "2\n",
      "1\n",
      "0\n"
     ]
    }
   ],
   "source": [
    "a = int(input())\n",
    "for i in range(a + 1):\n",
    "    if a == 0:\n",
    "        break\n",
    "    else:\n",
    "        print(a - 1)\n",
    "        a = a - 1"
   ]
  },
  {
   "cell_type": "markdown",
   "id": "ac606728",
   "metadata": {},
   "source": [
    "# 6074 : [기초-반복실행구조] 문자 1개 입력받아 알파벳 출력하기"
   ]
  },
  {
   "cell_type": "code",
   "execution_count": 24,
   "id": "515645db",
   "metadata": {},
   "outputs": [
    {
     "name": "stdout",
     "output_type": "stream",
     "text": [
      "f\n",
      "a b c d e f "
     ]
    }
   ],
   "source": [
    "c = ord(input())\n",
    "t = ord('a')\n",
    "while t<=c :\n",
    "  print(chr(t), end=' ')\n",
    "  t += 1"
   ]
  },
  {
   "cell_type": "markdown",
   "id": "fa778071",
   "metadata": {},
   "source": [
    "# 6075 : [기초-반복실행구조] 정수 1개 입력받아 그 수까지 출력하기1"
   ]
  },
  {
   "cell_type": "code",
   "execution_count": 2,
   "id": "a469e352",
   "metadata": {},
   "outputs": [
    {
     "name": "stdout",
     "output_type": "stream",
     "text": [
      "4\n",
      "0\n",
      "1\n",
      "2\n",
      "3\n",
      "4\n"
     ]
    }
   ],
   "source": [
    "a = int(input())\n",
    "\n",
    "for i in range(a + 1):\n",
    "    if a >= i:\n",
    "        print(int(i))"
   ]
  }
 ],
 "metadata": {
  "kernelspec": {
   "display_name": "Python 3",
   "language": "python",
   "name": "python3"
  },
  "language_info": {
   "codemirror_mode": {
    "name": "ipython",
    "version": 3
   },
   "file_extension": ".py",
   "mimetype": "text/x-python",
   "name": "python",
   "nbconvert_exporter": "python",
   "pygments_lexer": "ipython3",
   "version": "3.8.8"
  }
 },
 "nbformat": 4,
 "nbformat_minor": 5
}
