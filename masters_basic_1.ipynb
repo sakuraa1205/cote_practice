{
 "cells": [
  {
   "cell_type": "code",
   "execution_count": null,
   "id": "715e7ab1",
   "metadata": {},
   "outputs": [],
   "source": [
    "A, B, C, D, E = input().split()\n",
    "A, B, C, D, E = int(A), int(B), int(C), int(D), int(E)\n",
    "\n",
    "print(1000 * A + 1500 * B + 2000 * C + 3000 * D + 5000 * E)"
   ]
  },
  {
   "cell_type": "code",
   "execution_count": null,
   "id": "a0b316f4",
   "metadata": {},
   "outputs": [],
   "source": [
    "a = int(input())\n",
    "print(round(a ** 0.5))"
   ]
  },
  {
   "cell_type": "code",
   "execution_count": null,
   "id": "a4c9f9a0",
   "metadata": {},
   "outputs": [],
   "source": [
    "a, b, c = map(int, input().split())\n",
    "print(b, (a*b + c))"
   ]
  },
  {
   "cell_type": "code",
   "execution_count": null,
   "id": "70729a9c",
   "metadata": {},
   "outputs": [],
   "source": [
    "txt = input()\n",
    "txt1 = txt.replace(\"\\\\\", \"\\\\\\\\\")\n",
    "txt2 = txt1.replace(\"\\'\", \"\\\\\\'\")\n",
    "txt3 = txt2.replace(\"\\\"\", \"\\\\\\\"\")\n",
    "print(txt3)"
   ]
  },
  {
   "cell_type": "code",
   "execution_count": null,
   "id": "fdec6c3a",
   "metadata": {},
   "outputs": [],
   "source": [
    "a = int(input())\n",
    "if a % 3 == 0:\n",
    "    print('bokkeumbap')\n",
    "elif a % 2 == 0:\n",
    "    print('jjajangmyeon')\n",
    "else:\n",
    "    print('jjamppong')"
   ]
  },
  {
   "cell_type": "code",
   "execution_count": null,
   "id": "dbffdd4c",
   "metadata": {},
   "outputs": [],
   "source": [
    "a = int(input())\n",
    "\n",
    "while True:\n",
    "    if a % 2 == 0:\n",
    "        print(round(a), end = ' ')\n",
    "        a = a/2\n",
    "    elif a == 1:\n",
    "        print(round(a), end = ' ')\n",
    "        break        \n",
    "    else:\n",
    "        print(round(a), end = ' ')\n",
    "        a = 3 * a + 1"
   ]
  },
  {
   "cell_type": "code",
   "execution_count": null,
   "id": "d7f2a807",
   "metadata": {},
   "outputs": [],
   "source": [
    "a = str(input())\n",
    "clap = a.count('3') + a.count('6') + a.count('9')\n",
    "\n",
    "if clap == 0:\n",
    "    print(a)\n",
    "else:\n",
    "    print('clap' * clap)"
   ]
  },
  {
   "cell_type": "code",
   "execution_count": null,
   "id": "e1deec42",
   "metadata": {},
   "outputs": [],
   "source": [
    "n = int(input())\n",
    "\n",
    "if n % 3 == 0:\n",
    "    a, b, c = map(int, input().split())\n",
    "    e = a + b + c\n",
    "elif n % 3 == 1:\n",
    "    a, b, c, d = map(int, input().split())\n",
    "    e = a + b + c + d\n",
    "else:\n",
    "    a, b, c, d, e = map(int, input().split())\n",
    "    e = a + b + c + d + e\n",
    "\n",
    "\n",
    "if e < 100:\n",
    "    print(100 - e)\n",
    "else:\n",
    "    print(0)"
   ]
  },
  {
   "cell_type": "code",
   "execution_count": null,
   "id": "e1debcde",
   "metadata": {},
   "outputs": [],
   "source": [
    "a = input()\n",
    "if len(a) > 15:\n",
    "    print('IPv6')\n",
    "else:\n",
    "    print('IPv4')"
   ]
  },
  {
   "cell_type": "code",
   "execution_count": null,
   "id": "1d401412",
   "metadata": {},
   "outputs": [],
   "source": [
    "a, b = map(int, input().split())\n",
    "c, d = map(int, input().split())\n",
    "\n",
    "if a > c:\n",
    "    print('NO')\n",
    "elif abs(b - d) <= abs(c - a):\n",
    "    print('YES')\n",
    "else:\n",
    "    print('NO')"
   ]
  },
  {
   "cell_type": "code",
   "execution_count": null,
   "id": "224e014f",
   "metadata": {},
   "outputs": [],
   "source": [
    "a, b = map(int, input().split())\n",
    "print(round((a + b) / 2))"
   ]
  },
  {
   "cell_type": "code",
   "execution_count": null,
   "id": "770f4f23",
   "metadata": {},
   "outputs": [],
   "source": [
    "a = float(input())\n",
    "\n",
    "if a % 1 == 0:\n",
    "    print('bottom')\n",
    "else:\n",
    "    print('top')"
   ]
  },
  {
   "cell_type": "code",
   "execution_count": null,
   "id": "38ee8c88",
   "metadata": {},
   "outputs": [],
   "source": [
    "a = int(input())\n",
    "\n",
    "if a % 2 == 0:\n",
    "    print(a - 1)\n",
    "else:\n",
    "    print(a + 1)"
   ]
  },
  {
   "cell_type": "code",
   "execution_count": null,
   "id": "b2ff75d4",
   "metadata": {},
   "outputs": [],
   "source": [
    "a = int(input())\n",
    "\n",
    "if a == 1:\n",
    "    a1 = int(input())\n",
    "    if a1 % 2 == 1:\n",
    "        print('L')\n",
    "    else:\n",
    "        print('R')\n",
    "\n",
    "if a == 2:\n",
    "    a1 = int(input())\n",
    "    a2 = int(input())\n",
    "    if a1 % 2 == 1:\n",
    "        print('L')\n",
    "    else:\n",
    "        print('R')\n",
    "    if a2 % 2 == 1:\n",
    "        print('L')\n",
    "    else:\n",
    "        print('R')\n",
    "\n",
    "if a == 3:\n",
    "    a1 = int(input())\n",
    "    a2 = int(input())\n",
    "    a3 = int(input())\n",
    "    if a1 % 2 == 1:\n",
    "        print('L')\n",
    "    else:\n",
    "        print('R')\n",
    "    if a2 % 2 == 1:\n",
    "        print('L')\n",
    "    else:\n",
    "        print('R')\n",
    "    if a3 % 2 == 1:\n",
    "        print('L')\n",
    "    else:\n",
    "        print('R')\n",
    "\n",
    "if a == 4:\n",
    "    a1 = int(input())\n",
    "    a2 = int(input())\n",
    "    a3 = int(input())\n",
    "    a4 = int(input())\n",
    "    if a1 % 2 == 1:\n",
    "        print('L')\n",
    "    else:\n",
    "        print('R')\n",
    "    if a2 % 2 == 1:\n",
    "        print('L')\n",
    "    else:\n",
    "        print('R')\n",
    "    if a3 % 2 == 1:\n",
    "        print('L')\n",
    "    else:\n",
    "        print('R')\n",
    "    if a4 % 2 == 1:\n",
    "        print('L')\n",
    "    else:\n",
    "        print('R')\n",
    "\n",
    "if a == 5:\n",
    "    a1 = int(input())\n",
    "    a2 = int(input())\n",
    "    a3 = int(input())\n",
    "    a4 = int(input())\n",
    "    a5 = int(input())\n",
    "    if a1 % 2 == 1:\n",
    "        print('L')\n",
    "    else:\n",
    "        print('R')\n",
    "    if a2 % 2 == 1:\n",
    "        print('L')\n",
    "    else:\n",
    "        print('R')\n",
    "    if a3 % 2 == 1:\n",
    "        print('L')\n",
    "    else:\n",
    "        print('R')\n",
    "    if a4 % 2 == 1:\n",
    "        print('L')\n",
    "    else:\n",
    "        print('R')\n",
    "    if a5 % 2 == 1:\n",
    "        print('L')\n",
    "    else:\n",
    "        print('R')"
   ]
  },
  {
   "cell_type": "code",
   "execution_count": null,
   "id": "576e5375",
   "metadata": {},
   "outputs": [],
   "source": [
    "a, b = map(int, input().split())\n",
    "\n",
    "if abs(a - b) >= 29:\n",
    "    print(60 - abs(a - b))\n",
    "else:\n",
    "    print(abs(a - b))"
   ]
  },
  {
   "cell_type": "code",
   "execution_count": null,
   "id": "b1fa2539",
   "metadata": {},
   "outputs": [],
   "source": [
    "a, b, c = map(int, input().split())\n",
    "\n",
    "if a ** 2 * 3.14 > b ** 2 * 3.14 * c:\n",
    "    print('NO')\n",
    "else:\n",
    "    print('YES')    "
   ]
  },
  {
   "cell_type": "code",
   "execution_count": null,
   "id": "bc51f53b",
   "metadata": {},
   "outputs": [],
   "source": [
    "a, b = map(int, input().split())\n",
    "if 100 * b / a <= 4:\n",
    "    print('YES')\n",
    "else:\n",
    "    print('NO')"
   ]
  },
  {
   "cell_type": "code",
   "execution_count": null,
   "id": "55b1f28e",
   "metadata": {},
   "outputs": [],
   "source": [
    "a = input()\n",
    "b = '0' * (5 - len(a))\n",
    "print(f'{b}{a}')"
   ]
  },
  {
   "cell_type": "code",
   "execution_count": null,
   "id": "b975c1d4",
   "metadata": {},
   "outputs": [],
   "source": [
    "a = input()\n",
    "b = input()\n",
    "\n",
    "a = a.replace(\"s\", \"\")\n",
    "b = b.replace(\"s\", \"\")\n",
    "\n",
    "a, b = float(a), float(b)\n",
    "\n",
    "if a < b:\n",
    "    print('JAVA')\n",
    "elif a == b:\n",
    "    print('JAVA')\n",
    "else:\n",
    "    print('PYTHON')"
   ]
  },
  {
   "cell_type": "code",
   "execution_count": null,
   "id": "168e0dfb",
   "metadata": {},
   "outputs": [],
   "source": [
    "k = int(input())\n",
    "\n",
    "for n in range(k + 1, 3 * k):\n",
    "    b = n / 2\n",
    "    if (b % 2 == 1) & (n > k):\n",
    "        print(n)\n",
    "        break"
   ]
  }
 ],
 "metadata": {
  "kernelspec": {
   "display_name": "Python 3",
   "language": "python",
   "name": "python3"
  },
  "language_info": {
   "codemirror_mode": {
    "name": "ipython",
    "version": 3
   },
   "file_extension": ".py",
   "mimetype": "text/x-python",
   "name": "python",
   "nbconvert_exporter": "python",
   "pygments_lexer": "ipython3",
   "version": "3.8.8"
  }
 },
 "nbformat": 4,
 "nbformat_minor": 5
}
