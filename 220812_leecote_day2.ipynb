{
 "cells": [
  {
   "cell_type": "markdown",
   "id": "1e3bcf23",
   "metadata": {},
   "source": [
    "# 코딩테스트를 위한 Python 기초 문법"
   ]
  },
  {
   "cell_type": "markdown",
   "id": "eaacf0f2",
   "metadata": {},
   "source": [
    "### heapq\n",
    "- PriorityQueue 라이브러리도 사용 가능하지만, heapq이 더 빠르게 동작함\n",
    "- 시간복잡도 0(NlogN)\n",
    "- heapq.heappush() : 힙에 원소를 삽입할 때\n",
    "- heapq.heappop() : 힙에서 원소를 꺼낼 때"
   ]
  },
  {
   "cell_type": "code",
   "execution_count": 2,
   "id": "065d0e70",
   "metadata": {},
   "outputs": [
    {
     "name": "stdout",
     "output_type": "stream",
     "text": [
      "[0, 1, 2, 3, 4, 5, 6, 7, 8, 9]\n"
     ]
    }
   ],
   "source": [
    "# 오름차순 힙\n",
    "import heapq\n",
    "\n",
    "def heapsort(iterable):\n",
    "    h = []\n",
    "    result = []\n",
    "    # 힙에다 원소를 차례대로 삽입\n",
    "    for value in iterable:\n",
    "        heapq.heappush(h, value)\n",
    "    # 힙에서 원소를 차례대로 꺼내어 담기\n",
    "    for i in range(len(h)):\n",
    "        result.append(heapq.heappop(h))\n",
    "    return result\n",
    "\n",
    "result = heapsort([1, 3, 5, 7, 9, 2, 4, 6, 8, 0])\n",
    "\n",
    "print(result)"
   ]
  },
  {
   "cell_type": "code",
   "execution_count": 7,
   "id": "65bf7cf2",
   "metadata": {},
   "outputs": [
    {
     "name": "stdout",
     "output_type": "stream",
     "text": [
      "[9, 8, 7, 6, 5, 4, 3, 2, 1, 0]\n"
     ]
    }
   ],
   "source": [
    "# 내림차순 힙\n",
    "import heapq\n",
    "\n",
    "def heapsort(iterable):\n",
    "    h = []\n",
    "    result = []\n",
    "    # 힙에다 원소를 차례대로 삽입\n",
    "    for value in iterable:\n",
    "        heapq.heappush(h, -value)\n",
    "    # 힙에서 원소를 차례대로 꺼내어 담기\n",
    "    for i in range(len(h)):\n",
    "        result.append(-heapq.heappop(h))\n",
    "    return result\n",
    "\n",
    "result = heapsort([1, 3, 5, 7, 9, 2, 4, 6, 8, 0])\n",
    "\n",
    "print(result)"
   ]
  },
  {
   "cell_type": "markdown",
   "id": "d9ffdf87",
   "metadata": {},
   "source": [
    "### bisect\n",
    "- 시간복잡도 O(logN)\n",
    "- 정렬된 순서를 유지하면서 데이터 확인"
   ]
  },
  {
   "cell_type": "code",
   "execution_count": 3,
   "id": "5bc7d57f",
   "metadata": {},
   "outputs": [
    {
     "name": "stdout",
     "output_type": "stream",
     "text": [
      "2\n",
      "4\n"
     ]
    }
   ],
   "source": [
    "# bisect_left(), bisect_right()\n",
    "from bisect import bisect_left, bisect_right\n",
    "\n",
    "a = [1, 2, 4, 4, 8]\n",
    "x = 4\n",
    "\n",
    "print(bisect_left(a, x))\n",
    "print(bisect_right(a, x))"
   ]
  },
  {
   "cell_type": "code",
   "execution_count": 12,
   "id": "8e483638",
   "metadata": {},
   "outputs": [
    {
     "name": "stdout",
     "output_type": "stream",
     "text": [
      "2\n",
      "6\n"
     ]
    }
   ],
   "source": [
    "# 정렬된 리스트에서 값을 빠르게 출력 할 수 있다.\n",
    "from bisect import bisect_left, bisect_right\n",
    "\n",
    "def count_by_range(a, left_value, right_value):\n",
    "    right_index = bisect_right(a, right_value)\n",
    "    left_index = bisect_left(a, left_value)\n",
    "    return right_index - left_index\n",
    "\n",
    "a = [1, 2, 3, 3, 3, 3, 4, 4, 8, 9]\n",
    "\n",
    "# 값이 4인 데이터 갯수 출력\n",
    "print(count_by_range(a, 4, 4))\n",
    "\n",
    "# 값이 [-1, 3 범위에 있는 데이터 개수 출력]\n",
    "print(count_by_range(a, 1, 3))"
   ]
  },
  {
   "cell_type": "markdown",
   "id": "83e6fc33",
   "metadata": {},
   "source": [
    "### collections\n",
    "- deque : 큐 구현\n",
    "- 시간복잡도                                       \n",
    "    - 가장 앞쪽에 원소 추가 : 리스트 - O(N) / deque - O(1)\n",
    "    - 가장 뒤쪽에 원소 추가 : 리스트 - O(1) / deque - O(1)\n",
    "    - 가장 앞쪽에 있는 원소 제거 : 리스트 - O(N) / deque - O(1)\n",
    "    - 가장 뒤쪽에 있는 원소 제거 : 리스트 - O(1) / deque - O(1)\n",
    "- 스택, 큐의 기능 모두 포함\n",
    "- 인덱싱, 슬라이싱 불가능"
   ]
  },
  {
   "cell_type": "code",
   "execution_count": 14,
   "id": "59da914c",
   "metadata": {},
   "outputs": [
    {
     "name": "stdout",
     "output_type": "stream",
     "text": [
      "deque([1, 2, 3, 4, 5])\n",
      "[1, 2, 3, 4, 5]\n"
     ]
    }
   ],
   "source": [
    "# append()\n",
    "from collections import deque\n",
    "\n",
    "data = deque([2, 3, 4])\n",
    "data.appendleft(1)\n",
    "data.append(5)\n",
    "\n",
    "print(data)\n",
    "print(list(data))"
   ]
  },
  {
   "cell_type": "code",
   "execution_count": 15,
   "id": "6171ef2f",
   "metadata": {},
   "outputs": [
    {
     "name": "stdout",
     "output_type": "stream",
     "text": [
      "3\n",
      "1\n",
      "{'red': 2, 'blue': 3, 'green': 1}\n"
     ]
    }
   ],
   "source": [
    "# counter()\n",
    "from collections import Counter\n",
    "\n",
    "counter = Counter(['red', 'blue', 'red', 'green', 'blue', 'blue'])\n",
    "\n",
    "print(counter['blue'])\n",
    "print(counter['green'])\n",
    "print(dict(counter))"
   ]
  },
  {
   "cell_type": "markdown",
   "id": "7b0a4e39",
   "metadata": {},
   "source": [
    "### math\n",
    "- 팩토리얼, 제곱근, 최대공약수 등의 기능 포함"
   ]
  },
  {
   "cell_type": "code",
   "execution_count": 16,
   "id": "bd8f3517",
   "metadata": {},
   "outputs": [
    {
     "name": "stdout",
     "output_type": "stream",
     "text": [
      "120\n"
     ]
    }
   ],
   "source": [
    "# 팩토리얼\n",
    "import math\n",
    "\n",
    "print(math.factorial(5))"
   ]
  },
  {
   "cell_type": "code",
   "execution_count": 17,
   "id": "23c30563",
   "metadata": {},
   "outputs": [
    {
     "name": "stdout",
     "output_type": "stream",
     "text": [
      "2.6457513110645907\n"
     ]
    }
   ],
   "source": [
    "# 루트\n",
    "import math\n",
    "\n",
    "print(math.sqrt(7))"
   ]
  },
  {
   "cell_type": "code",
   "execution_count": 21,
   "id": "6d242de9",
   "metadata": {},
   "outputs": [
    {
     "name": "stdout",
     "output_type": "stream",
     "text": [
      "7\n"
     ]
    }
   ],
   "source": [
    "# 최대공약수\n",
    "import math\n",
    "\n",
    "print(math.gcd(21, 14))"
   ]
  },
  {
   "cell_type": "code",
   "execution_count": 22,
   "id": "22617166",
   "metadata": {},
   "outputs": [
    {
     "name": "stdout",
     "output_type": "stream",
     "text": [
      "3.141592653589793\n",
      "2.718281828459045\n"
     ]
    }
   ],
   "source": [
    "# 파이 및 자연상수\n",
    "print(math.pi)\n",
    "print(math.e)"
   ]
  }
 ],
 "metadata": {
  "kernelspec": {
   "display_name": "Python 3",
   "language": "python",
   "name": "python3"
  },
  "language_info": {
   "codemirror_mode": {
    "name": "ipython",
    "version": 3
   },
   "file_extension": ".py",
   "mimetype": "text/x-python",
   "name": "python",
   "nbconvert_exporter": "python",
   "pygments_lexer": "ipython3",
   "version": "3.8.8"
  }
 },
 "nbformat": 4,
 "nbformat_minor": 5
}
