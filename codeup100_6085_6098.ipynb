{
 "cells": [
  {
   "cell_type": "markdown",
   "id": "22556e2e",
   "metadata": {},
   "source": [
    "# 6085 : [기초-종합] 그림 파일 저장용량 계산하기"
   ]
  },
  {
   "cell_type": "code",
   "execution_count": 15,
   "id": "25803277",
   "metadata": {},
   "outputs": [
    {
     "name": "stdout",
     "output_type": "stream",
     "text": [
      "1024 768 24\n",
      "2.25 MB\n"
     ]
    }
   ],
   "source": [
    "w,h,b = input().split()\n",
    "cap=int(w)*int(h)*int(b)/1024/1024/8\n",
    "\n",
    "print('%.2f'%cap,\"MB\")"
   ]
  },
  {
   "cell_type": "markdown",
   "id": "0da9020c",
   "metadata": {},
   "source": [
    "# 6086 : [기초-종합] 거기까지! 이제 그만~"
   ]
  },
  {
   "cell_type": "code",
   "execution_count": 2,
   "id": "e75065ca",
   "metadata": {},
   "outputs": [
    {
     "name": "stdout",
     "output_type": "stream",
     "text": [
      "57\n",
      "66\n"
     ]
    }
   ],
   "source": [
    "a = int(input())\n",
    "b = []\n",
    "\n",
    "for i in range(1, a + 1):\n",
    "    b.append(i)\n",
    "    if sum(b) >= a:\n",
    "        print(sum(b))\n",
    "        break"
   ]
  },
  {
   "cell_type": "markdown",
   "id": "0f8b471c",
   "metadata": {},
   "source": [
    "# 6087 : [기초-종합] 3의 배수는 통과"
   ]
  },
  {
   "cell_type": "code",
   "execution_count": 7,
   "id": "841667fe",
   "metadata": {},
   "outputs": [
    {
     "name": "stdout",
     "output_type": "stream",
     "text": [
      "10\n",
      "1 2 4 5 7 8 10 "
     ]
    }
   ],
   "source": [
    "a = int(input())\n",
    "\n",
    "for i in range(1, a + 1):\n",
    "    if i % 3 == 0:\n",
    "        continue\n",
    "    else:\n",
    "        print(i, end = ' ')"
   ]
  },
  {
   "cell_type": "markdown",
   "id": "9328a2bc",
   "metadata": {},
   "source": [
    "# 6088 : [기초-종합] 수 나열하기1"
   ]
  },
  {
   "cell_type": "code",
   "execution_count": 8,
   "id": "22f5bacc",
   "metadata": {},
   "outputs": [
    {
     "name": "stdout",
     "output_type": "stream",
     "text": [
      "1 3 5\n",
      "13\n"
     ]
    }
   ],
   "source": [
    "a, d, n = input().split()\n",
    "a, d, n = int(a), int(d), int(n)\n",
    "\n",
    "print(a + d * (n - 1))"
   ]
  },
  {
   "cell_type": "markdown",
   "id": "e675df33",
   "metadata": {},
   "source": [
    "# 6089 : [기초-종합] 수 나열하기2"
   ]
  },
  {
   "cell_type": "code",
   "execution_count": 18,
   "id": "b115c911",
   "metadata": {},
   "outputs": [
    {
     "name": "stdout",
     "output_type": "stream",
     "text": [
      "2 3 7\n",
      "1458\n"
     ]
    }
   ],
   "source": [
    "a, r, n = input().split()\n",
    "a, r, n = int(a), int(r), int(n)\n",
    "\n",
    "print(a * r ** (n - 1))"
   ]
  },
  {
   "cell_type": "markdown",
   "id": "eb9bc348",
   "metadata": {},
   "source": [
    "# 6090 : [기초-종합] 수 나열하기3"
   ]
  },
  {
   "cell_type": "code",
   "execution_count": 25,
   "id": "3107fa01",
   "metadata": {},
   "outputs": [
    {
     "name": "stdout",
     "output_type": "stream",
     "text": [
      "1 -2 1 8\n",
      "-85\n"
     ]
    }
   ],
   "source": [
    "a, m, d, n = input().split()\n",
    "a, m, d, n = int(a), int(m), int(d), int(n)\n",
    "\n",
    "for i in range(1, n):\n",
    "    a = a * m + d\n",
    "\n",
    "print(a)"
   ]
  },
  {
   "cell_type": "markdown",
   "id": "bd373eba",
   "metadata": {},
   "source": [
    "# 6091 : [기초-종합] 함께 문제 푸는 날"
   ]
  },
  {
   "cell_type": "code",
   "execution_count": 33,
   "id": "84f6baa8",
   "metadata": {},
   "outputs": [
    {
     "name": "stdout",
     "output_type": "stream",
     "text": [
      "3 7 9\n",
      "63\n"
     ]
    }
   ],
   "source": [
    "a, b, c = input().split()\n",
    "a, b, c = int(a), int(b), int(c)\n",
    "\n",
    "for i in range(2, a * b * c + 1):\n",
    "    if i % a == 0 and i % b == 0 and i % c == 0:\n",
    "        print(i)\n",
    "        break"
   ]
  },
  {
   "cell_type": "markdown",
   "id": "3b7251b6",
   "metadata": {},
   "source": [
    "# 6092 : [기초-리스트] 이상한 출석 번호 부르기1"
   ]
  },
  {
   "cell_type": "code",
   "execution_count": 35,
   "id": "2b2bc78d",
   "metadata": {},
   "outputs": [
    {
     "name": "stdout",
     "output_type": "stream",
     "text": [
      "10\n",
      "1 3 2 2 5 6 7 4 5 9\n",
      "1 2 1 1 2 1 1 0 1 0 0 0 0 0 0 0 0 0 0 0 0 0 0 "
     ]
    }
   ],
   "source": [
    "n = int(input())      \n",
    "a = input().split()  \n",
    "\n",
    "for i in range(n) :  \n",
    "  a[i] = int(a[i])       \n",
    "\n",
    "d = []                   \n",
    "for i in range(24) :  \n",
    "  d.append(0)        \n",
    "\n",
    "for i in range(n) :    \n",
    "  d[a[i]] += 1\n",
    "\n",
    "for i in range(1, 24) :\n",
    "  print(d[i], end=' ')"
   ]
  },
  {
   "cell_type": "markdown",
   "id": "9a41a7d2",
   "metadata": {},
   "source": [
    "# 6093 : [기초-리스트] 이상한 출석 번호 부르기2"
   ]
  },
  {
   "cell_type": "code",
   "execution_count": 37,
   "id": "bd50b97d",
   "metadata": {},
   "outputs": [
    {
     "name": "stdout",
     "output_type": "stream",
     "text": [
      "10\n",
      "10 4 2 3 6 6 7 9 8 5\n",
      "5 8 9 7 6 6 3 2 4 10 "
     ]
    }
   ],
   "source": [
    "n = int(input())\n",
    "a = input().split()\n",
    "\n",
    "for i in range(n) :\n",
    "  a[i] = int(a[i])\n",
    "\n",
    "for i in range(n-1, -1, -1):\n",
    "  print(a[i], end=' ')"
   ]
  },
  {
   "cell_type": "markdown",
   "id": "1230a025",
   "metadata": {},
   "source": [
    "# 6094 : [기초-리스트] 이상한 출석 번호 부르기3"
   ]
  },
  {
   "cell_type": "code",
   "execution_count": 39,
   "id": "8eaf3486",
   "metadata": {},
   "outputs": [
    {
     "name": "stdout",
     "output_type": "stream",
     "text": [
      "10\n",
      "10 4 2 3 6 6 7 9 8 5\n",
      "2\n"
     ]
    }
   ],
   "source": [
    "n = int(input())\n",
    "a = input().split()\n",
    "\n",
    "for i in range(n) :\n",
    "  a[i] = int(a[i])\n",
    "\n",
    "print(min(a))"
   ]
  },
  {
   "cell_type": "markdown",
   "id": "e326d1a9",
   "metadata": {},
   "source": [
    "# 6095 : [기초-리스트] 바둑판에 흰 돌 놓기"
   ]
  },
  {
   "cell_type": "code",
   "execution_count": 40,
   "id": "33b4075b",
   "metadata": {},
   "outputs": [
    {
     "name": "stdout",
     "output_type": "stream",
     "text": [
      "5\n",
      "1 1\n",
      "2 2\n",
      "3 3\n",
      "4 4\n",
      "5 5\n",
      "1 0 0 0 0 0 0 0 0 0 0 0 0 0 0 0 0 0 0 \n",
      "0 1 0 0 0 0 0 0 0 0 0 0 0 0 0 0 0 0 0 \n",
      "0 0 1 0 0 0 0 0 0 0 0 0 0 0 0 0 0 0 0 \n",
      "0 0 0 1 0 0 0 0 0 0 0 0 0 0 0 0 0 0 0 \n",
      "0 0 0 0 1 0 0 0 0 0 0 0 0 0 0 0 0 0 0 \n",
      "0 0 0 0 0 0 0 0 0 0 0 0 0 0 0 0 0 0 0 \n",
      "0 0 0 0 0 0 0 0 0 0 0 0 0 0 0 0 0 0 0 \n",
      "0 0 0 0 0 0 0 0 0 0 0 0 0 0 0 0 0 0 0 \n",
      "0 0 0 0 0 0 0 0 0 0 0 0 0 0 0 0 0 0 0 \n",
      "0 0 0 0 0 0 0 0 0 0 0 0 0 0 0 0 0 0 0 \n",
      "0 0 0 0 0 0 0 0 0 0 0 0 0 0 0 0 0 0 0 \n",
      "0 0 0 0 0 0 0 0 0 0 0 0 0 0 0 0 0 0 0 \n",
      "0 0 0 0 0 0 0 0 0 0 0 0 0 0 0 0 0 0 0 \n",
      "0 0 0 0 0 0 0 0 0 0 0 0 0 0 0 0 0 0 0 \n",
      "0 0 0 0 0 0 0 0 0 0 0 0 0 0 0 0 0 0 0 \n",
      "0 0 0 0 0 0 0 0 0 0 0 0 0 0 0 0 0 0 0 \n",
      "0 0 0 0 0 0 0 0 0 0 0 0 0 0 0 0 0 0 0 \n",
      "0 0 0 0 0 0 0 0 0 0 0 0 0 0 0 0 0 0 0 \n",
      "0 0 0 0 0 0 0 0 0 0 0 0 0 0 0 0 0 0 0 \n"
     ]
    }
   ],
   "source": [
    "d=[]\n",
    "for i in range(20) :\n",
    "  d.append([])\n",
    "  for j in range(20) : \n",
    "    d[i].append(0)\n",
    "\n",
    "n = int(input())\n",
    "for i in range(n) :\n",
    "  x, y = input().split()\n",
    "  d[int(x)][int(y)] = 1\n",
    "\n",
    "for i in range(1, 20) :\n",
    "  for j in range(1, 20) : \n",
    "    print(d[i][j], end=' ')\n",
    "  print()"
   ]
  },
  {
   "cell_type": "markdown",
   "id": "f0d506ca",
   "metadata": {},
   "source": [
    "# 6096 : [기초-리스트] 바둑알 십자 뒤집기"
   ]
  },
  {
   "cell_type": "code",
   "execution_count": null,
   "id": "ec84713f",
   "metadata": {},
   "outputs": [],
   "source": [
    "d=[]\n",
    "for i in range(20) :\n",
    "  d.append([])\n",
    "  for j in range(20) : \n",
    "    d[i].append(0)\n",
    "\n",
    "for i in range(19) :\n",
    "  a = input().split()\n",
    "  for j in range(19) :\n",
    "    d[i+1][j+1] = int(a[j])\n",
    "\n",
    "n = int(input())\n",
    "for i in range(n) :\n",
    "  x,y=input().split()\n",
    "  x=int(x)\n",
    "  y=int(y)\n",
    "  for j in range(1, 20) :\n",
    "    if d[j][y]==0 :\n",
    "      d[j][y]=1\n",
    "    else :\n",
    "      d[j][y]=0\n",
    "\n",
    "    if d[x][j]==0 :\n",
    "      d[x][j]=1\n",
    "    else :\n",
    "      d[x][j]=0\n",
    "\n",
    "for i in range(1, 20) :\n",
    "  for j in range(1, 20) :\n",
    "    print(d[i][j], end=' ')\n",
    "  print()"
   ]
  },
  {
   "cell_type": "markdown",
   "id": "f70b095e",
   "metadata": {},
   "source": [
    "# 6097 : [기초-리스트] 설탕과자 뽑기"
   ]
  },
  {
   "cell_type": "code",
   "execution_count": 1,
   "id": "a0dc25ec",
   "metadata": {},
   "outputs": [
    {
     "name": "stdout",
     "output_type": "stream",
     "text": [
      "5 5\n",
      "3\n",
      "2 0 1 1\n",
      "3 1 2 3\n",
      "4 1 2 5\n",
      "1 1 0 0 0 \n",
      "0 0 1 0 1 \n",
      "0 0 1 0 1 \n",
      "0 0 1 0 1 \n",
      "0 0 0 0 1 \n"
     ]
    }
   ],
   "source": [
    "h,w = input().split()\n",
    "h = int(h)\n",
    "w = int(w)\n",
    "\n",
    "m = []\n",
    "for i in range(h+1) :\n",
    "  m.append([])\n",
    "  for j in range(w+1) :\n",
    "    m[i].append(0)\n",
    "\n",
    "n = int(input())\n",
    "for i in range(n) :\n",
    "  l,d,x,y = input().split()\n",
    "  if int(d)==0 :\n",
    "    for j in range(int(l)) :\n",
    "      m[int(x)][int(y)+j] = 1\n",
    "  else :\n",
    "    for j in range(int(l)) :\n",
    "      m[int(x)+j][int(y)] = 1\n",
    "\n",
    "for i in range(1, h+1) :\n",
    "  for j in range(1, w+1) :\n",
    "    print(m[i][j], end=' ')\n",
    "  print()"
   ]
  },
  {
   "cell_type": "markdown",
   "id": "710682a7",
   "metadata": {},
   "source": [
    "# 6098 : [기초-리스트] 성실한 개미"
   ]
  },
  {
   "cell_type": "code",
   "execution_count": null,
   "id": "0acb6ba3",
   "metadata": {},
   "outputs": [],
   "source": [
    "m=[]\n",
    "for i in range(12) :\n",
    "  m.append([])\n",
    "  for j in range(12) :\n",
    "    m[i].append(0)\n",
    "\n",
    "for i in range(10) :\n",
    "  a=input().split()\n",
    "  for j in range(10) :\n",
    "    m[i+1][j+1]=int(a[j])\n",
    "\n",
    "x = 2\n",
    "y = 2\n",
    "while True :\n",
    "  if m[x][y] == 0 :\n",
    "    m[x][y] = 9\n",
    "  elif m[x][y] == 2 :\n",
    "    m[x][y] = 9\n",
    "    break\n",
    "\n",
    "  if (m[x][y+1]==1 and m[x+1][y]==1) or (x==9 and y==9) :\n",
    "    break\n",
    "\n",
    "  if m[x][y+1] != 1 :\n",
    "    y += 1\n",
    "  elif m[x+1][y] != 1 :\n",
    "    x += 1\n",
    "    \n",
    "\n",
    "for i in range(1, 11) :\n",
    "  for j in range(1, 11) :\n",
    "    print(m[i][j], end=' ')\n",
    "  print()"
   ]
  }
 ],
 "metadata": {
  "kernelspec": {
   "display_name": "Python 3",
   "language": "python",
   "name": "python3"
  },
  "language_info": {
   "codemirror_mode": {
    "name": "ipython",
    "version": 3
   },
   "file_extension": ".py",
   "mimetype": "text/x-python",
   "name": "python",
   "nbconvert_exporter": "python",
   "pygments_lexer": "ipython3",
   "version": "3.8.8"
  }
 },
 "nbformat": 4,
 "nbformat_minor": 5
}
