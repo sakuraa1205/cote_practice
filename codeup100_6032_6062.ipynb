{
 "cells": [
  {
   "cell_type": "markdown",
   "id": "68c154bf",
   "metadata": {},
   "source": [
    "# 6032 : [기초-산술연산] 정수 1개 입력받아 부호 바꾸기"
   ]
  },
  {
   "cell_type": "code",
   "execution_count": 2,
   "id": "88309672",
   "metadata": {},
   "outputs": [
    {
     "name": "stdout",
     "output_type": "stream",
     "text": [
      "1\n",
      "-1\n"
     ]
    }
   ],
   "source": [
    "n = int(input())\n",
    "print(-n)"
   ]
  },
  {
   "cell_type": "markdown",
   "id": "63d56a45",
   "metadata": {},
   "source": [
    "# 6033 : [기초-산술연산] 문자 1개 입력받아 다음 문자 출력하기"
   ]
  },
  {
   "cell_type": "code",
   "execution_count": 7,
   "id": "015b2ffd",
   "metadata": {},
   "outputs": [
    {
     "name": "stdout",
     "output_type": "stream",
     "text": [
      "A\n",
      "B\n"
     ]
    }
   ],
   "source": [
    "a = ord(input())\n",
    "print(chr(a + 1))"
   ]
  },
  {
   "cell_type": "markdown",
   "id": "2ed70bcd",
   "metadata": {},
   "source": [
    "# 6034 : [기초-산술연산] 정수 2개 입력받아 차 계산하기"
   ]
  },
  {
   "cell_type": "code",
   "execution_count": 13,
   "id": "cb6ac8b2",
   "metadata": {},
   "outputs": [
    {
     "name": "stdout",
     "output_type": "stream",
     "text": [
      "123 -123\n",
      "246\n"
     ]
    }
   ],
   "source": [
    "a, b = input().split()\n",
    "a = int(a)\n",
    "b = int(b)\n",
    "c = a - b\n",
    "print(c)"
   ]
  },
  {
   "cell_type": "markdown",
   "id": "968ba7b1",
   "metadata": {},
   "source": [
    "# 6035 : [기초-산술연산] 실수 2개 입력받아 곱 계산하기"
   ]
  },
  {
   "cell_type": "code",
   "execution_count": 14,
   "id": "2923ee77",
   "metadata": {},
   "outputs": [
    {
     "name": "stdout",
     "output_type": "stream",
     "text": [
      "0.5 2.0\n",
      "1.0\n"
     ]
    }
   ],
   "source": [
    "a, b = input().split()\n",
    "a = float(a)\n",
    "b = float(b)\n",
    "c = a * b\n",
    "print(c)"
   ]
  },
  {
   "cell_type": "markdown",
   "id": "684867f8",
   "metadata": {},
   "source": [
    "# 6036 : [기초-산술연산] 단어 여러 번 출력하기"
   ]
  },
  {
   "cell_type": "code",
   "execution_count": 16,
   "id": "98c174a4",
   "metadata": {},
   "outputs": [
    {
     "name": "stdout",
     "output_type": "stream",
     "text": [
      "love 3\n",
      "lovelovelove\n"
     ]
    }
   ],
   "source": [
    "a, b = input().split()\n",
    "print(a * int(b))"
   ]
  },
  {
   "cell_type": "markdown",
   "id": "04921217",
   "metadata": {},
   "source": [
    "# 6037 : [기초-산술연산] 문장 여러 번 출력하기"
   ]
  },
  {
   "cell_type": "code",
   "execution_count": 19,
   "id": "991eeaca",
   "metadata": {},
   "outputs": [
    {
     "name": "stdout",
     "output_type": "stream",
     "text": [
      "3\n",
      "I love CS\n",
      "I love CSI love CSI love CS\n"
     ]
    }
   ],
   "source": [
    "a = input()\n",
    "b = input()\n",
    "print(int(a) * (b))"
   ]
  },
  {
   "cell_type": "markdown",
   "id": "c83bf1b2",
   "metadata": {},
   "source": [
    "# 6038 : [기초-산술연산] 정수 2개 입력받아 거듭제곱 계산하기"
   ]
  },
  {
   "cell_type": "code",
   "execution_count": 21,
   "id": "c77bfe01",
   "metadata": {},
   "outputs": [
    {
     "name": "stdout",
     "output_type": "stream",
     "text": [
      "2 10\n",
      "1024\n"
     ]
    }
   ],
   "source": [
    "a, b = input().split()\n",
    "a = int(a)\n",
    "b = int(b)\n",
    "print(a ** b)"
   ]
  },
  {
   "cell_type": "markdown",
   "id": "f5683297",
   "metadata": {},
   "source": [
    "# 6039 : [기초-산술연산] 실수 2개 입력받아 거듭제곱 계산하기"
   ]
  },
  {
   "cell_type": "code",
   "execution_count": 22,
   "id": "822127ad",
   "metadata": {},
   "outputs": [
    {
     "name": "stdout",
     "output_type": "stream",
     "text": [
      "4.0 2.0\n",
      "16.0\n"
     ]
    }
   ],
   "source": [
    "a, b = input().split()\n",
    "a = float(a)\n",
    "b = float(b)\n",
    "print(a ** b)"
   ]
  },
  {
   "cell_type": "markdown",
   "id": "2b297f0b",
   "metadata": {},
   "source": [
    "# 6040 : [기초-산술연산] 정수 2개 입력받아 나눈 몫 계산하기"
   ]
  },
  {
   "cell_type": "code",
   "execution_count": 23,
   "id": "3f6217b2",
   "metadata": {},
   "outputs": [
    {
     "name": "stdout",
     "output_type": "stream",
     "text": [
      "10 3\n",
      "3\n"
     ]
    }
   ],
   "source": [
    "a, b = input().split()\n",
    "a = int(a)\n",
    "b = int(b)\n",
    "print(a // b)"
   ]
  },
  {
   "cell_type": "markdown",
   "id": "0abad327",
   "metadata": {},
   "source": [
    "# 6041 : [기초-산술연산] 정수 2개 입력받아 나눈 나머지 계산하기"
   ]
  },
  {
   "cell_type": "code",
   "execution_count": 24,
   "id": "4ce1f18e",
   "metadata": {},
   "outputs": [
    {
     "name": "stdout",
     "output_type": "stream",
     "text": [
      "10 3\n",
      "1\n"
     ]
    }
   ],
   "source": [
    "a, b = input().split()\n",
    "a = int(a)\n",
    "b = int(b)\n",
    "print(a % b)"
   ]
  },
  {
   "cell_type": "markdown",
   "id": "b873c60a",
   "metadata": {},
   "source": [
    "# 6042 : [기초-값변환] 실수 1개 입력받아 소숫점이하 자리 변환하기"
   ]
  },
  {
   "cell_type": "code",
   "execution_count": 4,
   "id": "df718e25",
   "metadata": {},
   "outputs": [
    {
     "name": "stdout",
     "output_type": "stream",
     "text": [
      "3.141592\n",
      "3.14\n"
     ]
    }
   ],
   "source": [
    "a = float(input())\n",
    "print(format(a, \".2f\"))"
   ]
  },
  {
   "cell_type": "markdown",
   "id": "26eed43d",
   "metadata": {},
   "source": [
    "# 6043 : [기초-산술연산] 실수 2개 입력받아 나눈 결과 계산하기"
   ]
  },
  {
   "cell_type": "code",
   "execution_count": 9,
   "id": "85fed76e",
   "metadata": {},
   "outputs": [
    {
     "name": "stdout",
     "output_type": "stream",
     "text": [
      "10.0 3.0\n",
      "3.333\n"
     ]
    }
   ],
   "source": [
    "a, b = input().split()\n",
    "a = float(a)\n",
    "b = float(b)\n",
    "print(format(a / b, \".3f\"))"
   ]
  },
  {
   "cell_type": "markdown",
   "id": "8fa8fbe7",
   "metadata": {},
   "source": [
    "# 6044 : [기초-산술연산] 정수 2개 입력받아 자동 계산하기"
   ]
  },
  {
   "cell_type": "code",
   "execution_count": 16,
   "id": "1c2ab568",
   "metadata": {},
   "outputs": [
    {
     "name": "stdout",
     "output_type": "stream",
     "text": [
      "10 3\n",
      "13\n",
      "7\n",
      "30\n",
      "3\n",
      "1\n",
      "3.33\n"
     ]
    }
   ],
   "source": [
    "a, b = input().split()\n",
    "a = int(a)\n",
    "b = int(b)\n",
    "print(a + b)\n",
    "print(a - b)\n",
    "print(a * b)\n",
    "print(a // b)\n",
    "print(a % b)\n",
    "print(format(a / b, \".2f\"))"
   ]
  },
  {
   "cell_type": "markdown",
   "id": "e2eb176d",
   "metadata": {},
   "source": [
    "# 6045 : [기초-산술연산] 정수 3개 입력받아 합과 평균 출력하기"
   ]
  },
  {
   "cell_type": "code",
   "execution_count": 18,
   "id": "b80f3df7",
   "metadata": {},
   "outputs": [
    {
     "name": "stdout",
     "output_type": "stream",
     "text": [
      "1 2 3\n",
      "6 2.00\n"
     ]
    }
   ],
   "source": [
    "a, b, c = input().split()\n",
    "a = int(a)\n",
    "b = int(b)\n",
    "c = int(c)\n",
    "print(a + b + c, format((a + b + c) / 3, \".2f\"))"
   ]
  },
  {
   "cell_type": "markdown",
   "id": "5ae9910f",
   "metadata": {},
   "source": [
    "# 6046 : [기초-비트시프트연산] 정수 1개 입력받아 2배 곱해 출력하기"
   ]
  },
  {
   "cell_type": "code",
   "execution_count": 22,
   "id": "3d718b67",
   "metadata": {},
   "outputs": [
    {
     "name": "stdout",
     "output_type": "stream",
     "text": [
      "1024\n",
      "2048\n"
     ]
    }
   ],
   "source": [
    "# print(n<<1)  10을 2배 한 값인 20 이 출력된다.\n",
    "# print(n>>1)  10을 반으로 나눈 값인 5 가 출력된다.\n",
    "# print(n<<2)  10을 4배 한 값인 40 이 출력된다.\n",
    "# print(n>>2)  10을 반으로 나눈 후 다시 반으로 나눈 값인 2 가 출력된다.\n",
    "\n",
    "a = int(input())\n",
    "print(a << 1)"
   ]
  },
  {
   "cell_type": "markdown",
   "id": "9c7ccb2b",
   "metadata": {},
   "source": [
    "# 6047 : [기초-비트시프트연산] 2의 거듭제곱 배로 곱해 출력하기"
   ]
  },
  {
   "cell_type": "code",
   "execution_count": 25,
   "id": "c2f7a92d",
   "metadata": {},
   "outputs": [
    {
     "name": "stdout",
     "output_type": "stream",
     "text": [
      "1 3\n",
      "8\n"
     ]
    }
   ],
   "source": [
    "a, b = input().split()\n",
    "a = int(a)\n",
    "b = int(b)\n",
    "print(a << b)"
   ]
  },
  {
   "cell_type": "markdown",
   "id": "458043ea",
   "metadata": {},
   "source": [
    "# 6048 : [기초-비교연산] 정수 2개 입력받아 비교하기1"
   ]
  },
  {
   "cell_type": "code",
   "execution_count": 29,
   "id": "ee45e096",
   "metadata": {},
   "outputs": [
    {
     "name": "stdout",
     "output_type": "stream",
     "text": [
      "1 9\n",
      "True\n"
     ]
    }
   ],
   "source": [
    "a, b = input().split()\n",
    "a = int(a)\n",
    "b = int(b)\n",
    "\n",
    "if a < b:\n",
    "    print(True)\n",
    "else:\n",
    "    print(False)"
   ]
  },
  {
   "cell_type": "markdown",
   "id": "b3715817",
   "metadata": {},
   "source": [
    "# 6049 : [기초-비교연산] 정수 2개 입력받아 비교하기2"
   ]
  },
  {
   "cell_type": "code",
   "execution_count": 30,
   "id": "a21eb754",
   "metadata": {},
   "outputs": [
    {
     "name": "stdout",
     "output_type": "stream",
     "text": [
      "0 0\n",
      "True\n"
     ]
    }
   ],
   "source": [
    "a, b = input().split()\n",
    "a = int(a)\n",
    "b = int(b)\n",
    "\n",
    "if a == b:\n",
    "    print(True)\n",
    "else:\n",
    "    print(False)"
   ]
  },
  {
   "cell_type": "markdown",
   "id": "6bc242fd",
   "metadata": {},
   "source": [
    "# 6050 : [기초-비교연산] 정수 2개 입력받아 비교하기3"
   ]
  },
  {
   "cell_type": "code",
   "execution_count": 31,
   "id": "9329b01d",
   "metadata": {},
   "outputs": [
    {
     "name": "stdout",
     "output_type": "stream",
     "text": [
      "0 -1\n",
      "False\n"
     ]
    }
   ],
   "source": [
    "a, b = input().split()\n",
    "a = int(a)\n",
    "b = int(b)\n",
    "\n",
    "if a <= b:\n",
    "    print(True)\n",
    "else:\n",
    "    print(False)"
   ]
  },
  {
   "cell_type": "markdown",
   "id": "9cb74f34",
   "metadata": {},
   "source": [
    "# 6051 : [기초-비교연산] 정수 2개 입력받아 비교하기4"
   ]
  },
  {
   "cell_type": "code",
   "execution_count": 32,
   "id": "d79b52d9",
   "metadata": {},
   "outputs": [
    {
     "name": "stdout",
     "output_type": "stream",
     "text": [
      "0 1\n",
      "True\n"
     ]
    }
   ],
   "source": [
    "a, b = input().split()\n",
    "a = int(a)\n",
    "b = int(b)\n",
    "\n",
    "if a != b:\n",
    "    print(True)\n",
    "else:\n",
    "    print(False)"
   ]
  },
  {
   "cell_type": "markdown",
   "id": "affef730",
   "metadata": {},
   "source": [
    "# 6052 : [기초-논리연산] 정수 입력받아 참 거짓 평가하기"
   ]
  },
  {
   "cell_type": "code",
   "execution_count": 34,
   "id": "aadd06ca",
   "metadata": {},
   "outputs": [
    {
     "name": "stdout",
     "output_type": "stream",
     "text": [
      "0\n",
      "False\n"
     ]
    }
   ],
   "source": [
    "a = int(input())\n",
    "print(bool(a))"
   ]
  },
  {
   "cell_type": "markdown",
   "id": "e2347a45",
   "metadata": {},
   "source": [
    "# 6053 : [기초-논리연산] 참 거짓 바꾸기"
   ]
  },
  {
   "cell_type": "code",
   "execution_count": 2,
   "id": "c30b90af",
   "metadata": {},
   "outputs": [
    {
     "name": "stdout",
     "output_type": "stream",
     "text": [
      "1\n",
      "False\n"
     ]
    }
   ],
   "source": [
    "a = bool(int(input()))\n",
    "print(not a)"
   ]
  },
  {
   "cell_type": "markdown",
   "id": "c2b79378",
   "metadata": {},
   "source": [
    "# 6054 : [기초-논리연산] 둘 다 참일 경우만 참 출력하기"
   ]
  },
  {
   "cell_type": "code",
   "execution_count": 5,
   "id": "8a44252b",
   "metadata": {},
   "outputs": [
    {
     "name": "stdout",
     "output_type": "stream",
     "text": [
      "1 1\n",
      "True\n"
     ]
    }
   ],
   "source": [
    "a, b = input().split()\n",
    "print(bool(int(a)) and bool(int(b)))"
   ]
  },
  {
   "cell_type": "markdown",
   "id": "130ce1a5",
   "metadata": {},
   "source": [
    "# 6055 : [기초-논리연산] 하나라도 참이면 참 출력하기"
   ]
  },
  {
   "cell_type": "code",
   "execution_count": 7,
   "id": "e2a1d908",
   "metadata": {},
   "outputs": [
    {
     "name": "stdout",
     "output_type": "stream",
     "text": [
      "0 1\n",
      "True\n"
     ]
    }
   ],
   "source": [
    "a, b = input(). split()\n",
    "print(bool(int(a)) or bool(int(b)))"
   ]
  },
  {
   "cell_type": "markdown",
   "id": "07b731b4",
   "metadata": {},
   "source": [
    "# 6056 : [기초-논리연산] 참/거짓이 서로 다를 때에만 참 출력하기"
   ]
  },
  {
   "cell_type": "code",
   "execution_count": 3,
   "id": "cc030ce8",
   "metadata": {},
   "outputs": [
    {
     "name": "stdout",
     "output_type": "stream",
     "text": [
      "1 1\n",
      "False\n"
     ]
    }
   ],
   "source": [
    "a, b = input(). split()\n",
    "c = bool(int(a))\n",
    "d = bool(int(b))\n",
    "print((c and (not d)) or ((not c) and d))"
   ]
  },
  {
   "cell_type": "markdown",
   "id": "5707f0f7",
   "metadata": {},
   "source": [
    "# 6057 : [기초-논리연산] 참/거짓이 서로 같을 때에만 참 출력하기"
   ]
  },
  {
   "cell_type": "code",
   "execution_count": 7,
   "id": "f8f86631",
   "metadata": {},
   "outputs": [
    {
     "name": "stdout",
     "output_type": "stream",
     "text": [
      "0 1\n",
      "False\n"
     ]
    }
   ],
   "source": [
    "a, b = input(). split()\n",
    "c = bool(int(a))\n",
    "d = bool(int(b))\n",
    "print((c == d))"
   ]
  },
  {
   "cell_type": "markdown",
   "id": "66f82283",
   "metadata": {},
   "source": [
    "# 6058 : [기초-논리연산] 둘 다 거짓일 경우만 참 출력하기"
   ]
  },
  {
   "cell_type": "code",
   "execution_count": 1,
   "id": "eded87bb",
   "metadata": {},
   "outputs": [
    {
     "name": "stdout",
     "output_type": "stream",
     "text": [
      "0 0\n",
      "True\n"
     ]
    }
   ],
   "source": [
    "a, b = input(). split()\n",
    "a, b = bool(int(a)), bool(int(b))\n",
    "\n",
    "if (a == False and b == False):\n",
    "    print(\"True\")\n",
    "else:\n",
    "    print(\"False\")"
   ]
  },
  {
   "cell_type": "markdown",
   "id": "5cc99bc8",
   "metadata": {},
   "source": [
    "# 6059 : [기초-비트단위논리연산] 비트단위로 NOT 하여 출력하기"
   ]
  },
  {
   "cell_type": "code",
   "execution_count": 3,
   "id": "6b7953dd",
   "metadata": {},
   "outputs": [
    {
     "name": "stdout",
     "output_type": "stream",
     "text": [
      "2\n",
      "-3\n"
     ]
    }
   ],
   "source": [
    "a = int(input())\n",
    "print(~a)"
   ]
  },
  {
   "cell_type": "markdown",
   "id": "fe8b0785",
   "metadata": {},
   "source": [
    "# 6060 : [기초-비트단위논리연산] 비트단위로 AND 하여 출력하기"
   ]
  },
  {
   "cell_type": "code",
   "execution_count": 12,
   "id": "6afc5099",
   "metadata": {},
   "outputs": [
    {
     "name": "stdout",
     "output_type": "stream",
     "text": [
      "3 5\n",
      "1\n"
     ]
    }
   ],
   "source": [
    "a, b = map(int, input().split())\n",
    "print(a & b)"
   ]
  },
  {
   "cell_type": "markdown",
   "id": "9ada08b9",
   "metadata": {},
   "source": [
    "# 6061 : [기초-비트단위논리연산] 비트단위로 OR 하여 출력하기"
   ]
  },
  {
   "cell_type": "code",
   "execution_count": 13,
   "id": "a570cfaa",
   "metadata": {},
   "outputs": [
    {
     "name": "stdout",
     "output_type": "stream",
     "text": [
      "3 5\n",
      "7\n"
     ]
    }
   ],
   "source": [
    "a, b = map(int, input().split())\n",
    "print(a | b)"
   ]
  },
  {
   "cell_type": "markdown",
   "id": "80e64ba9",
   "metadata": {},
   "source": [
    "# 6062 : [기초-비트단위논리연산] 비트단위로 XOR 하여 출력하기"
   ]
  },
  {
   "cell_type": "code",
   "execution_count": 14,
   "id": "09183bfd",
   "metadata": {},
   "outputs": [
    {
     "name": "stdout",
     "output_type": "stream",
     "text": [
      "3 5\n",
      "6\n"
     ]
    }
   ],
   "source": [
    "a, b = map(int, input().split())\n",
    "print(a ^ b)"
   ]
  }
 ],
 "metadata": {
  "kernelspec": {
   "display_name": "Python 3",
   "language": "python",
   "name": "python3"
  },
  "language_info": {
   "codemirror_mode": {
    "name": "ipython",
    "version": 3
   },
   "file_extension": ".py",
   "mimetype": "text/x-python",
   "name": "python",
   "nbconvert_exporter": "python",
   "pygments_lexer": "ipython3",
   "version": "3.8.8"
  }
 },
 "nbformat": 4,
 "nbformat_minor": 5
}
