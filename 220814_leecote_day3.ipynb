{
 "cells": [
  {
   "cell_type": "markdown",
   "id": "587e6cf8",
   "metadata": {},
   "source": [
    "# 이것이 취업을 위한 코딩 테스트다"
   ]
  },
  {
   "cell_type": "markdown",
   "id": "fede740b",
   "metadata": {},
   "source": [
    "## Part 1"
   ]
  },
  {
   "cell_type": "markdown",
   "id": "50f18650",
   "metadata": {},
   "source": [
    "### Chapter 1"
   ]
  },
  {
   "cell_type": "markdown",
   "id": "e7337162",
   "metadata": {},
   "source": [
    "#### Section 1 ~ Section 2"
   ]
  },
  {
   "cell_type": "markdown",
   "id": "e19e56ad",
   "metadata": {},
   "source": [
    "- 파이썬으로 평소 딥러닝 프로젝트를 진행할 수 있기때문에, Jupyter Notebook 환경으로 선택\n",
    "- Code Up 100제 >> 이코테 공부하면서 백준 알고리즘별 문제풀이 >> 삼성 SW Expert 에서 역량테스트 A형 응시해보기\n",
    "- 카카오도 목표로하면 프로그래머스 문제도 꼭 공부하기"
   ]
  },
  {
   "cell_type": "markdown",
   "id": "c7a78bda",
   "metadata": {},
   "source": [
    "#### Section 3\n",
    "- 엄밀한 정의를 이해하고 싶으면 '계산 복잡도 이론' 공부\n",
    "  \n",
    "  \n",
    "- 시간복잡도  \n",
    "    해당 알고리즘을 연산하는데 걸리는 시간  \n",
    "      \n",
    "    O(1) : 상수 시간 (Constant time)  \n",
    "    O(logN) : 로그 시간  \n",
    "    O(N) : 선형 시간 (N이 1,000일 때 연산 횟수 : 1,000)  \n",
    "    O(NlogN) : 로그 선형 시간 (N이 1,000일 때 연산 횟수 : 10,000)  \n",
    "    O(N^2) : 이차 시간 (N이 1,000일 때 연산 횟수 : 1,000,000)  \n",
    "    O(N^3) : 삼차 시간 (N이 1,000일 때 연산 횟수 : 1,000,000,000)  \n",
    "    O(2^n) : 지수 시간  \n",
    "      \n",
    "      \n",
    "    - 시간 제한이 1초인 문제에 대한 예시  \n",
    "    N의 범위가 500인 경우 : 시간 복잡도가 O(N^3)인 알고리즘을 설계하면 문제를 풀 수 있다.  \n",
    "    N의 범위가 2,000인 경우 : 시간 복잡도가 O(N^2)인 알고리즘을 설계하면 문제를 풀 수 있다.  \n",
    "    N의 범위가 100,000인 경우 : 시간 복잡도가 O(NlogN)인 알고리즘을 설계하면 문제를 풀 수 있다.  \n",
    "    N의 범위가 10,000,000인 경우 : 시간 복잡도가 O(N)인 알고리즘을 설계하면 문제를 풀 수 있다.\n",
    "  \n",
    "- 공간복잡도  \n",
    "    해당 알고리즘을 연산하는데 걸리는 메모리\n",
    "      \n",
    "    int a[1000] : 4KB  \n",
    "    int a[1000000] : 4MB  \n",
    "    int a[2000][2000] : 16MB"
   ]
  },
  {
   "cell_type": "code",
   "execution_count": 4,
   "id": "0a48119b",
   "metadata": {},
   "outputs": [
    {
     "name": "stdout",
     "output_type": "stream",
     "text": [
      "time : 0.0\n"
     ]
    }
   ],
   "source": [
    "# 수행 시간 측정 소스코드\n",
    "import time\n",
    "# 측정 시작\n",
    "start_time = time.time()\n",
    "\n",
    "# 프로그램 소스코드 기입\n",
    "\n",
    "# 측정 종료\n",
    "end_time = time.time()\n",
    "\n",
    "# 수행시간 출력\n",
    "print(\"time :\", end_time - start_time)"
   ]
  },
  {
   "cell_type": "code",
   "execution_count": 2,
   "id": "518b7c2a",
   "metadata": {},
   "outputs": [
    {
     "name": "stdout",
     "output_type": "stream",
     "text": [
      "time : 8.725642681121826\n",
      "time : 0.00546574592590332\n"
     ]
    }
   ],
   "source": [
    "# 수행 시간 측정 소스코드 예시\n",
    "# 선택 정렬 : O(N^2)\n",
    "# 기본 정렬 : O(NlogN)\n",
    "from random import randint\n",
    "import time\n",
    "\n",
    "# 배열에 10,000개의 정수를 삽입\n",
    "array = []\n",
    "for _ in range(10000):\n",
    "    array.append(randint(1, 100)) # 1부터 100 사이의 랜덤한 정수\n",
    "\n",
    "# 선택 정렬 측정 시작\n",
    "start_time = time.time()\n",
    "\n",
    "# 선택 정렬 프로그램 소스코드\n",
    "for i in range(len(array)):\n",
    "    min_index = i # 가장 작은 원소의 인덱스\n",
    "    for j in range(i + 1, len(array)):\n",
    "        if array[min_index] > array[j]:\n",
    "            min_index = j\n",
    "    array[i], array[min_index] = array[min_index], array[i] # 스왑\n",
    "\n",
    "# 선택 정렬 측정 종료\n",
    "end_time = time.time()\n",
    "\n",
    "# 선택 정렬 수행시간 출력\n",
    "print(\"time :\", end_time - start_time)\n",
    "\n",
    "# 배열을 다시 무작위 데이터로 초기화\n",
    "array = []\n",
    "for _ in range(10000):\n",
    "    array.append(randint(1, 100)) # 1부터 100 사이의 랜덤한 정수\n",
    "\n",
    "# 기본 정렬 라이브러리 성능 측정\n",
    "start_time = time.time()\n",
    "\n",
    "# 기본 정렬 라이브러리 사용\n",
    "array.sort()\n",
    "\n",
    "# 기본 정렬 측정 종료\n",
    "end_time = time.time()\n",
    "\n",
    "# 기본 정렬 수행시간 출력\n",
    "print(\"time :\", end_time - start_time)"
   ]
  },
  {
   "cell_type": "markdown",
   "id": "7153907e",
   "metadata": {},
   "source": [
    "### Chapter 2 ~ Part 1 end.\n",
    "- 취업에 도움이 되는 글이다."
   ]
  }
 ],
 "metadata": {
  "kernelspec": {
   "display_name": "Python 3",
   "language": "python",
   "name": "python3"
  },
  "language_info": {
   "codemirror_mode": {
    "name": "ipython",
    "version": 3
   },
   "file_extension": ".py",
   "mimetype": "text/x-python",
   "name": "python",
   "nbconvert_exporter": "python",
   "pygments_lexer": "ipython3",
   "version": "3.8.8"
  }
 },
 "nbformat": 4,
 "nbformat_minor": 5
}
