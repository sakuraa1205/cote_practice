{
 "cells": [
  {
   "cell_type": "markdown",
   "id": "d2b880eb",
   "metadata": {},
   "source": [
    "# CodeUp Python 기초 100제 연습 1"
   ]
  },
  {
   "cell_type": "markdown",
   "id": "3e4842f3",
   "metadata": {},
   "source": [
    "* 6001 : [기초-출력] 출력하기01"
   ]
  },
  {
   "cell_type": "code",
   "execution_count": 9,
   "id": "a6eb5e05",
   "metadata": {},
   "outputs": [
    {
     "name": "stdout",
     "output_type": "stream",
     "text": [
      "Hello\n"
     ]
    }
   ],
   "source": [
    "print(\"Hello\")"
   ]
  },
  {
   "cell_type": "markdown",
   "id": "e0eefc06",
   "metadata": {},
   "source": [
    "* 6002 : [기초-출력] 출력하기02"
   ]
  },
  {
   "cell_type": "code",
   "execution_count": 10,
   "id": "2c391c9a",
   "metadata": {},
   "outputs": [
    {
     "name": "stdout",
     "output_type": "stream",
     "text": [
      "Hello World\n"
     ]
    }
   ],
   "source": [
    "print(\"Hello World\")"
   ]
  },
  {
   "cell_type": "markdown",
   "id": "8e573171",
   "metadata": {},
   "source": [
    "* 6003 : [기초-출력] 출력하기03"
   ]
  },
  {
   "cell_type": "code",
   "execution_count": 39,
   "id": "6ff80a74",
   "metadata": {},
   "outputs": [
    {
     "name": "stdout",
     "output_type": "stream",
     "text": [
      "Hello\n",
      "World\n",
      "Hello\n",
      "World\n"
     ]
    }
   ],
   "source": [
    "print(\"Hello\")\n",
    "print(\"World\")\n",
    "print(\"Hello\\nWorld\")"
   ]
  },
  {
   "cell_type": "markdown",
   "id": "494fb9b7",
   "metadata": {},
   "source": [
    "* 6004 : [기초-출력] 출력하기04"
   ]
  },
  {
   "cell_type": "code",
   "execution_count": 12,
   "id": "54b12681",
   "metadata": {},
   "outputs": [
    {
     "name": "stdout",
     "output_type": "stream",
     "text": [
      "'Hello'\n"
     ]
    }
   ],
   "source": [
    "print(\"'Hello'\")"
   ]
  },
  {
   "cell_type": "markdown",
   "id": "b44e99c1",
   "metadata": {},
   "source": [
    "* 6005 : [기초-출력] 출력하기05"
   ]
  },
  {
   "cell_type": "code",
   "execution_count": 13,
   "id": "a947bca2",
   "metadata": {},
   "outputs": [
    {
     "name": "stdout",
     "output_type": "stream",
     "text": [
      "\"Hello World\"\n"
     ]
    }
   ],
   "source": [
    "print('\"Hello World\"')"
   ]
  },
  {
   "cell_type": "markdown",
   "id": "9c257165",
   "metadata": {},
   "source": [
    "* 6006 : [기초-출력] 출력하기06"
   ]
  },
  {
   "cell_type": "code",
   "execution_count": 25,
   "id": "359734d6",
   "metadata": {},
   "outputs": [
    {
     "name": "stdout",
     "output_type": "stream",
     "text": [
      "\"!@#$%^&*()'\n"
     ]
    }
   ],
   "source": [
    "print(\"\\\"!@#$%^&*()'\")"
   ]
  },
  {
   "cell_type": "markdown",
   "id": "64ad7b85",
   "metadata": {},
   "source": [
    "* 6007 : [기초-출력] 출력하기07"
   ]
  },
  {
   "cell_type": "code",
   "execution_count": 36,
   "id": "7c4b7a59",
   "metadata": {},
   "outputs": [
    {
     "name": "stdout",
     "output_type": "stream",
     "text": [
      "\"C:\\Download\\'hello'.py\"\n"
     ]
    }
   ],
   "source": [
    "print(\"\\\"C:\\Download\\\\'hello'.py\\\"\")"
   ]
  },
  {
   "cell_type": "markdown",
   "id": "b4610125",
   "metadata": {},
   "source": [
    "* 6008 : [기초-출력] 출력하기08"
   ]
  },
  {
   "cell_type": "code",
   "execution_count": 52,
   "id": "8fd26632",
   "metadata": {},
   "outputs": [
    {
     "name": "stdout",
     "output_type": "stream",
     "text": [
      "print(\"Hello\\nWorld\")\n"
     ]
    }
   ],
   "source": [
    "print(\"print(\\\"Hello\\\\nWorld\\\")\")"
   ]
  },
  {
   "cell_type": "markdown",
   "id": "1b68a385",
   "metadata": {},
   "source": [
    "* 6009 : [기초-입출력] 문자 1개 입력받아 그대로 출력하기"
   ]
  },
  {
   "cell_type": "code",
   "execution_count": 1,
   "id": "3b0b16b6",
   "metadata": {},
   "outputs": [
    {
     "name": "stdout",
     "output_type": "stream",
     "text": [
      "a\n",
      "a\n"
     ]
    }
   ],
   "source": [
    "a = input()\n",
    "print(a)"
   ]
  },
  {
   "cell_type": "markdown",
   "id": "fb53982e",
   "metadata": {},
   "source": [
    "* 6010 : [기초-입출력] 정수 1개 입력받아 int로 변환하여 출력하기"
   ]
  },
  {
   "cell_type": "code",
   "execution_count": 2,
   "id": "3c353d38",
   "metadata": {},
   "outputs": [
    {
     "name": "stdout",
     "output_type": "stream",
     "text": [
      "15\n",
      "15\n"
     ]
    }
   ],
   "source": [
    "a = int(input())\n",
    "print(a)"
   ]
  },
  {
   "cell_type": "markdown",
   "id": "e7f345d7",
   "metadata": {},
   "source": [
    "* 6011 : [기초-입출력] 실수 1개 입력받아 변환하여 출력하기"
   ]
  },
  {
   "cell_type": "code",
   "execution_count": 5,
   "id": "85ded043",
   "metadata": {},
   "outputs": [
    {
     "name": "stdout",
     "output_type": "stream",
     "text": [
      "1.4564\n",
      "1.4564\n"
     ]
    }
   ],
   "source": [
    "a = float(input())\n",
    "print(a)"
   ]
  },
  {
   "cell_type": "markdown",
   "id": "e384df7b",
   "metadata": {},
   "source": [
    "* 6012 : [기초-입출력] 정수 2개 입력받아 그대로 출력하기1"
   ]
  },
  {
   "cell_type": "code",
   "execution_count": 8,
   "id": "37e921ab",
   "metadata": {},
   "outputs": [
    {
     "name": "stdout",
     "output_type": "stream",
     "text": [
      "1\n",
      "2\n",
      "1\n",
      "2\n"
     ]
    }
   ],
   "source": [
    "a = input()\n",
    "b = input()\n",
    "print(a)\n",
    "print(b)"
   ]
  },
  {
   "cell_type": "markdown",
   "id": "8f5ae5ca",
   "metadata": {},
   "source": [
    "* 6013 : [기초-입출력] 문자 2개 입력받아 순서 바꿔 출력하기1"
   ]
  },
  {
   "cell_type": "code",
   "execution_count": 10,
   "id": "6e734fa5",
   "metadata": {},
   "outputs": [
    {
     "name": "stdout",
     "output_type": "stream",
     "text": [
      "a\n",
      "b\n",
      "b\n",
      "a\n"
     ]
    }
   ],
   "source": [
    "a = input()\n",
    "b = input()\n",
    "print(b)\n",
    "print(a)"
   ]
  },
  {
   "cell_type": "markdown",
   "id": "b0de3213",
   "metadata": {},
   "source": [
    "* 6014 : [기초-입출력] 실수 1개 입력받아 3번 출력하기"
   ]
  },
  {
   "cell_type": "code",
   "execution_count": 32,
   "id": "0aff009a",
   "metadata": {},
   "outputs": [
    {
     "name": "stdout",
     "output_type": "stream",
     "text": [
      "0.1\n",
      "0.1\n",
      "0.1\n",
      "0.1\n"
     ]
    }
   ],
   "source": [
    "a = float(input())\n",
    "\n",
    "i = 0\n",
    "for i in range(3):\n",
    "    print(f'{a}')"
   ]
  },
  {
   "cell_type": "markdown",
   "id": "2229f960",
   "metadata": {},
   "source": [
    "* 6015 : [기초-입출력] 정수 2개 입력받아 그대로 출력하기2"
   ]
  },
  {
   "cell_type": "code",
   "execution_count": 17,
   "id": "ed2cb8f0",
   "metadata": {},
   "outputs": [
    {
     "name": "stdout",
     "output_type": "stream",
     "text": [
      "1 2\n",
      "1\n",
      "2\n"
     ]
    }
   ],
   "source": [
    "a, b = input().split()\n",
    "a = int(a)\n",
    "b = int(b)\n",
    "print(a)\n",
    "print(b)"
   ]
  },
  {
   "cell_type": "markdown",
   "id": "53b4b18d",
   "metadata": {},
   "source": [
    "* 6016 : [기초-입출력] 문자 2개 입력받아 순서 바꿔 출력하기2"
   ]
  },
  {
   "cell_type": "code",
   "execution_count": 18,
   "id": "a933292e",
   "metadata": {},
   "outputs": [
    {
     "name": "stdout",
     "output_type": "stream",
     "text": [
      "a b\n",
      "b a\n"
     ]
    }
   ],
   "source": [
    "a, b = input().split()\n",
    "print(b, a)"
   ]
  },
  {
   "cell_type": "markdown",
   "id": "88faecfb",
   "metadata": {},
   "source": [
    "* 6017 : [기초-입출력] 문장 1개 입력받아 3번 출력하기"
   ]
  },
  {
   "cell_type": "code",
   "execution_count": 21,
   "id": "395b05e5",
   "metadata": {},
   "outputs": [
    {
     "name": "stdout",
     "output_type": "stream",
     "text": [
      "computer\n",
      "computer computer computer\n"
     ]
    }
   ],
   "source": [
    "a = input()\n",
    "print(a, a, a)"
   ]
  },
  {
   "cell_type": "markdown",
   "id": "c7e06f6a",
   "metadata": {},
   "source": [
    "* 6018 : [기초-입출력] 시간 입력받아 그대로 출력하기"
   ]
  },
  {
   "cell_type": "code",
   "execution_count": 24,
   "id": "55a31359",
   "metadata": {},
   "outputs": [
    {
     "name": "stdout",
     "output_type": "stream",
     "text": [
      "6:00\n",
      "6:00\n"
     ]
    }
   ],
   "source": [
    "hour, minutes = input(). split(':')\n",
    "print(hour, minutes, sep = ':')"
   ]
  },
  {
   "cell_type": "markdown",
   "id": "cd575d78",
   "metadata": {},
   "source": [
    "* 6019 : [기초-입출력] 연월일 입력받아 순서 바꿔 출력하기"
   ]
  },
  {
   "cell_type": "code",
   "execution_count": 27,
   "id": "a6ede51a",
   "metadata": {},
   "outputs": [
    {
     "name": "stdout",
     "output_type": "stream",
     "text": [
      "2022.07.30\n",
      "30-07-2022\n"
     ]
    }
   ],
   "source": [
    "y, m, d = input(). split('.')\n",
    "print(d, m, y, sep = '-')"
   ]
  },
  {
   "cell_type": "markdown",
   "id": "7de351d5",
   "metadata": {},
   "source": [
    "* 6020 : [기초-입출력] 주민번호 입력받아 형태 바꿔 출력하기"
   ]
  },
  {
   "cell_type": "code",
   "execution_count": 30,
   "id": "24512876",
   "metadata": {},
   "outputs": [
    {
     "name": "stdout",
     "output_type": "stream",
     "text": [
      "220730-0000000\n",
      "2207300000000\n"
     ]
    }
   ],
   "source": [
    "f, b = input().split('-')\n",
    "print(f, b, sep = '')"
   ]
  },
  {
   "cell_type": "markdown",
   "id": "0569d549",
   "metadata": {},
   "source": [
    "* 6021 : [기초-입출력] 단어 1개 입력받아 나누어 출력하기"
   ]
  },
  {
   "cell_type": "code",
   "execution_count": 33,
   "id": "72f33dbf",
   "metadata": {},
   "outputs": [
    {
     "name": "stdout",
     "output_type": "stream",
     "text": [
      "love0320\n",
      "l\n",
      "o\n",
      "v\n",
      "e\n",
      "0\n",
      "3\n",
      "2\n",
      "0\n"
     ]
    }
   ],
   "source": [
    "s = input()\n",
    "\n",
    "i = 0\n",
    "for i in range(len(s)):\n",
    "    print(s[i])\n",
    "    i+=1"
   ]
  },
  {
   "cell_type": "markdown",
   "id": "01588425",
   "metadata": {},
   "source": [
    "* 6022 : [기초-입출력] 연월일 입력받아 나누어 출력하기"
   ]
  },
  {
   "cell_type": "code",
   "execution_count": 41,
   "id": "e3a6a16e",
   "metadata": {},
   "outputs": [
    {
     "name": "stdout",
     "output_type": "stream",
     "text": [
      "220730\n",
      "22 07 30\n"
     ]
    }
   ],
   "source": [
    "s = input()\n",
    "print(s[0:2], s[2:4], s[4:6])"
   ]
  },
  {
   "cell_type": "markdown",
   "id": "d80c5df3",
   "metadata": {},
   "source": [
    "* 6023 : [기초-입출력] 시분초 입력받아 분만 출력하기"
   ]
  },
  {
   "cell_type": "code",
   "execution_count": 42,
   "id": "8cdc4b86",
   "metadata": {},
   "outputs": [
    {
     "name": "stdout",
     "output_type": "stream",
     "text": [
      "06:22:31\n",
      "22\n"
     ]
    }
   ],
   "source": [
    "h, m, s = input().split(':')\n",
    "print(m)"
   ]
  },
  {
   "cell_type": "markdown",
   "id": "bb99bd46",
   "metadata": {},
   "source": [
    "* 6024 : [기초-입출력] 단어 2개 입력받아 이어 붙이기"
   ]
  },
  {
   "cell_type": "code",
   "execution_count": 43,
   "id": "d8b5619d",
   "metadata": {},
   "outputs": [
    {
     "name": "stdout",
     "output_type": "stream",
     "text": [
      "Hello World\n",
      "HelloWorld\n"
     ]
    }
   ],
   "source": [
    "w1, w2 = input().split()\n",
    "s = w1 + w2\n",
    "print(s)"
   ]
  },
  {
   "cell_type": "markdown",
   "id": "c4b2d82f",
   "metadata": {},
   "source": [
    "* 6025 : [기초-값변환] 정수 2개 입력받아 합 계산하기"
   ]
  },
  {
   "cell_type": "code",
   "execution_count": 47,
   "id": "da62567b",
   "metadata": {},
   "outputs": [
    {
     "name": "stdout",
     "output_type": "stream",
     "text": [
      "0.1\n",
      "0.9\n",
      "1.0\n"
     ]
    }
   ],
   "source": [
    "a = input()\n",
    "b = input()\n",
    "c = float(a) + float(b)\n",
    "print(c)"
   ]
  },
  {
   "cell_type": "markdown",
   "id": "70d8a8dc",
   "metadata": {},
   "source": [
    "* 6027 : [기초-출력변환] 10진 정수 입력받아 16진수로 출력하기1"
   ]
  },
  {
   "cell_type": "code",
   "execution_count": 49,
   "id": "b121a38f",
   "metadata": {},
   "outputs": [
    {
     "name": "stdout",
     "output_type": "stream",
     "text": [
      "255\n",
      "ff\n"
     ]
    }
   ],
   "source": [
    "a = input()\n",
    "n = int(a)\n",
    "print('%x'% n)  #n을 16진수(hexadecimal) 소문자 형태 문자열로 출력"
   ]
  },
  {
   "cell_type": "markdown",
   "id": "8c211d91",
   "metadata": {},
   "source": [
    "* 6028 : [기초-출력변환] 10진 정수 입력받아 16진수로 출력하기2"
   ]
  },
  {
   "cell_type": "code",
   "execution_count": 52,
   "id": "19f57322",
   "metadata": {},
   "outputs": [
    {
     "name": "stdout",
     "output_type": "stream",
     "text": [
      "255\n",
      "FF\n"
     ]
    }
   ],
   "source": [
    "a = input()\n",
    "n = int(a)\n",
    "print('%X'% n)  #n을 16진수(hexadecimal) 소문자 형태 문자열로 출력"
   ]
  },
  {
   "cell_type": "markdown",
   "id": "78ac3cb4",
   "metadata": {},
   "source": [
    "* 6029 : [기초-값변환] 16진 정수 입력받아 8진수로 출력하기"
   ]
  },
  {
   "cell_type": "code",
   "execution_count": 55,
   "id": "ddbb61b0",
   "metadata": {},
   "outputs": [
    {
     "name": "stdout",
     "output_type": "stream",
     "text": [
      "f\n",
      "17\n"
     ]
    }
   ],
   "source": [
    "a = input()\n",
    "n = int(a, 16)   #입력된 a를 16진수로 인식해 변수 n에 저장\n",
    "print('%o' % n)  #n을 8진수(octal) 형태 문자열로 출력"
   ]
  },
  {
   "cell_type": "markdown",
   "id": "f25611e3",
   "metadata": {},
   "source": [
    "* 6030 : [기초-값변환] 영문자 1개 입력받아 10진수로 변환하기"
   ]
  },
  {
   "cell_type": "code",
   "execution_count": 59,
   "id": "fdb665bb",
   "metadata": {},
   "outputs": [
    {
     "name": "stdout",
     "output_type": "stream",
     "text": [
      "a\n",
      "97\n"
     ]
    }
   ],
   "source": [
    "n = ord(input())  # 10진수로 저장\n",
    "print(n)"
   ]
  },
  {
   "cell_type": "markdown",
   "id": "2a009c35",
   "metadata": {},
   "source": [
    "* 6031 : [기초-값변환] 정수 입력받아 유니코드 문자로 변환하기"
   ]
  },
  {
   "cell_type": "code",
   "execution_count": 63,
   "id": "4f8b7c4b",
   "metadata": {},
   "outputs": [
    {
     "name": "stdout",
     "output_type": "stream",
     "text": [
      "65\n",
      "A\n"
     ]
    }
   ],
   "source": [
    "c = int(input())\n",
    "print(chr(c))     #c 값을 유니코드 문자(chracter)로 바꿔 출력한다. "
   ]
  }
 ],
 "metadata": {
  "kernelspec": {
   "display_name": "Python 3",
   "language": "python",
   "name": "python3"
  },
  "language_info": {
   "codemirror_mode": {
    "name": "ipython",
    "version": 3
   },
   "file_extension": ".py",
   "mimetype": "text/x-python",
   "name": "python",
   "nbconvert_exporter": "python",
   "pygments_lexer": "ipython3",
   "version": "3.8.8"
  }
 },
 "nbformat": 4,
 "nbformat_minor": 5
}
