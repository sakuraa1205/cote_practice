{
 "cells": [
  {
   "cell_type": "markdown",
   "id": "7e3e580e",
   "metadata": {},
   "source": [
    "# 6076 : [기초-반복실행구조] 정수 1개 입력받아 그 수까지 출력하기2"
   ]
  },
  {
   "cell_type": "code",
   "execution_count": 2,
   "id": "3eebf528",
   "metadata": {},
   "outputs": [
    {
     "name": "stdout",
     "output_type": "stream",
     "text": [
      "2\n",
      "0\n",
      "1\n",
      "2\n"
     ]
    }
   ],
   "source": [
    "a = int(input())\n",
    "for i in range(a + 1):\n",
    "    print(i)"
   ]
  },
  {
   "cell_type": "markdown",
   "id": "3332cc5e",
   "metadata": {},
   "source": [
    "# 6077 : [기초-종합] 짝수 합 구하기"
   ]
  },
  {
   "cell_type": "code",
   "execution_count": 12,
   "id": "f130f430",
   "metadata": {},
   "outputs": [
    {
     "name": "stdout",
     "output_type": "stream",
     "text": [
      "5\n",
      "6\n"
     ]
    }
   ],
   "source": [
    "a = []\n",
    "b = int(input())\n",
    "\n",
    "for i in range(1, b + 1):\n",
    "    if i % 2 == 0:\n",
    "        a.append(int(i))\n",
    "\n",
    "print(sum(a))"
   ]
  },
  {
   "cell_type": "markdown",
   "id": "60d24ba2",
   "metadata": {},
   "source": [
    "# 6078 : [기초-종합] 원하는 문자가 입력될 때까지 반복 출력하기"
   ]
  },
  {
   "cell_type": "code",
   "execution_count": 17,
   "id": "730201c4",
   "metadata": {},
   "outputs": [
    {
     "name": "stdout",
     "output_type": "stream",
     "text": [
      "x\n",
      "x\n",
      "b\n",
      "b\n",
      "k\n",
      "k\n",
      "d\n",
      "d\n",
      "q\n",
      "q\n"
     ]
    }
   ],
   "source": [
    "while True:\n",
    "    a = input()\n",
    "    if a == 'q':\n",
    "        print(a)\n",
    "        break\n",
    "    else:\n",
    "        print(a)"
   ]
  },
  {
   "cell_type": "markdown",
   "id": "73d0c8e7",
   "metadata": {},
   "source": [
    "# 6079 : [기초-종합] 언제까지 더해야 할까?"
   ]
  },
  {
   "cell_type": "code",
   "execution_count": 3,
   "id": "d0cc1a3c",
   "metadata": {},
   "outputs": [
    {
     "name": "stdout",
     "output_type": "stream",
     "text": [
      "55\n",
      "10\n"
     ]
    }
   ],
   "source": [
    "a = int(input())\n",
    "b = []\n",
    "\n",
    "for i in range(1, a + 1):\n",
    "    b.append(int(i))\n",
    "    if sum(b) >= a:\n",
    "        print(i)\n",
    "        break "
   ]
  },
  {
   "cell_type": "markdown",
   "id": "a3f52f73",
   "metadata": {},
   "source": [
    "# 6080 : [기초-종합] 주사위 2개 던지기"
   ]
  },
  {
   "cell_type": "code",
   "execution_count": 6,
   "id": "89edb308",
   "metadata": {},
   "outputs": [
    {
     "name": "stdout",
     "output_type": "stream",
     "text": [
      "2 3\n",
      "1 1\n",
      "1 2\n",
      "1 3\n",
      "2 1\n",
      "2 2\n",
      "2 3\n"
     ]
    }
   ],
   "source": [
    "n, m = input().split()\n",
    "n, m = int(n), int(m)\n",
    "\n",
    "for i in range(1, n+1) :\n",
    "  for j in range(1, m+1) :\n",
    "    print(i, j)"
   ]
  },
  {
   "cell_type": "markdown",
   "id": "4a2b4e27",
   "metadata": {},
   "source": [
    "# 6081 : [기초-종합] 16진수 구구단 출력하기"
   ]
  },
  {
   "cell_type": "code",
   "execution_count": 14,
   "id": "9d4a4652",
   "metadata": {},
   "outputs": [
    {
     "name": "stdout",
     "output_type": "stream",
     "text": [
      "B\n",
      "B*1=B\n",
      "B*2=16\n",
      "B*3=21\n",
      "B*4=2C\n",
      "B*5=37\n",
      "B*6=42\n",
      "B*7=4D\n",
      "B*8=58\n",
      "B*9=63\n",
      "B*A=6E\n",
      "B*B=79\n",
      "B*C=84\n",
      "B*D=8F\n",
      "B*E=9A\n",
      "B*F=A5\n"
     ]
    }
   ],
   "source": [
    "a = int(input(), 16)\n",
    "\n",
    "for i in range(1, 16):\n",
    "    print('%X'%a, '*%X'%i, '=%X'%(a*i), sep='')"
   ]
  },
  {
   "cell_type": "markdown",
   "id": "c74cb9f5",
   "metadata": {},
   "source": [
    "# 6082 : [기초-종합] 3 6 9 게임의 왕이 되자"
   ]
  },
  {
   "cell_type": "code",
   "execution_count": 26,
   "id": "87452519",
   "metadata": {},
   "outputs": [
    {
     "name": "stdout",
     "output_type": "stream",
     "text": [
      "29\n",
      "1 2 X 4 5 X 7 8 X 10 11 12 X 14 15 X 17 18 X 20 21 22 X 24 25 X 27 28 X "
     ]
    }
   ],
   "source": [
    "n = int(input())\n",
    "\n",
    "for i in range(1, n + 1):\n",
    "    if i % 10 == 3:\n",
    "        print('X', end = ' ')\n",
    "    elif i % 10 == 6:\n",
    "        print('X', end = ' ')\n",
    "    elif i % 10 == 9:\n",
    "        print('X', end = ' ')\n",
    "    else:\n",
    "        print(i, end = ' ')"
   ]
  },
  {
   "cell_type": "markdown",
   "id": "461af1bd",
   "metadata": {},
   "source": [
    "# 6083 : [기초-종합] 빛 섞어 색 만들기"
   ]
  },
  {
   "cell_type": "code",
   "execution_count": 28,
   "id": "eac84416",
   "metadata": {},
   "outputs": [
    {
     "name": "stdout",
     "output_type": "stream",
     "text": [
      "2 2 2\n",
      "0 0 0\n",
      "0 0 1\n",
      "0 1 0\n",
      "0 1 1\n",
      "1 0 0\n",
      "1 0 1\n",
      "1 1 0\n",
      "1 1 1\n",
      "8\n"
     ]
    }
   ],
   "source": [
    "r, g, b = input().split()\n",
    "\n",
    "r = int(r)\n",
    "g = int(g)\n",
    "b = int(b)\n",
    "\n",
    "for i in range(0, r) :\n",
    "  for j in range(0, g) :\n",
    "    for k in range(0, b) :\n",
    "      print(i, j, k)\n",
    "\n",
    "print(r*g*b)"
   ]
  },
  {
   "cell_type": "markdown",
   "id": "03565f47",
   "metadata": {},
   "source": [
    "# 6084 : [기초-종합] 소리 파일 저장용량 계산하기"
   ]
  },
  {
   "cell_type": "code",
   "execution_count": 42,
   "id": "d839f37b",
   "metadata": {},
   "outputs": [
    {
     "name": "stdout",
     "output_type": "stream",
     "text": [
      "44100 16 2 10\n",
      "1.7 MB\n"
     ]
    }
   ],
   "source": [
    "h, b, c, s = map(int, input(). split())\n",
    "a = h * b * c * s / 8 / 1024 / 1024\n",
    "a = round(a, 1)\n",
    "\n",
    "print(f'{a} MB')"
   ]
  }
 ],
 "metadata": {
  "kernelspec": {
   "display_name": "Python 3",
   "language": "python",
   "name": "python3"
  },
  "language_info": {
   "codemirror_mode": {
    "name": "ipython",
    "version": 3
   },
   "file_extension": ".py",
   "mimetype": "text/x-python",
   "name": "python",
   "nbconvert_exporter": "python",
   "pygments_lexer": "ipython3",
   "version": "3.8.8"
  }
 },
 "nbformat": 4,
 "nbformat_minor": 5
}
