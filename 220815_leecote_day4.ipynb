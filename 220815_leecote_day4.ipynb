{
 "cells": [
  {
   "cell_type": "markdown",
   "id": "3914b105",
   "metadata": {},
   "source": [
    "# Part 2"
   ]
  },
  {
   "cell_type": "markdown",
   "id": "2a8d8523",
   "metadata": {},
   "source": [
    "### Chapter 3 Greedy\n",
    "- 해석그대로 탐욕법이라고도 함\n",
    "- 보통 1, 2번 문제로 출제되서 합격에 당락을 좌우함"
   ]
  },
  {
   "cell_type": "code",
   "execution_count": 2,
   "id": "75555c5f",
   "metadata": {},
   "outputs": [
    {
     "name": "stdout",
     "output_type": "stream",
     "text": [
      "6\n"
     ]
    }
   ],
   "source": [
    "# 거스름돈 동전의 갯수가 가장 작은 방법\n",
    "n = 1260\n",
    "count = 0\n",
    "\n",
    "coin_types = [500, 100, 50, 10]\n",
    "\n",
    "for coin in coin_types:\n",
    "    count += n // coin\n",
    "    n %= coin\n",
    "\n",
    "print(count)"
   ]
  },
  {
   "cell_type": "markdown",
   "id": "7ddc39c9",
   "metadata": {},
   "source": [
    "#### 큰 수의 법칙"
   ]
  },
  {
   "cell_type": "code",
   "execution_count": 16,
   "id": "1d68460e",
   "metadata": {},
   "outputs": [
    {
     "name": "stdout",
     "output_type": "stream",
     "text": [
      "5 8 3\n",
      "2 4 5 4 6\n",
      "46\n",
      "0.0\n"
     ]
    }
   ],
   "source": [
    "# 내 답안\n",
    "n, m, k = map(int, input().split())\n",
    "a = list(map(int, input().split()))\n",
    "\n",
    "import time\n",
    "\n",
    "start_time = time.time()\n",
    "\n",
    "a.sort()\n",
    "\n",
    "lap_score = a[n - 1] * 3 + a[n - 2]\n",
    "b = m // (k + 1)\n",
    "c = m % (k + 1)\n",
    "\n",
    "end_time = time.time()\n",
    "\n",
    "answer = lap_score * b + a[n - 1] * c\n",
    "print(answer)\n",
    "print(end_time - start_time)"
   ]
  },
  {
   "cell_type": "code",
   "execution_count": 17,
   "id": "b3376dc2",
   "metadata": {},
   "outputs": [
    {
     "name": "stdout",
     "output_type": "stream",
     "text": [
      "5 8 3\n",
      "2 4 5 4 6\n",
      "46\n",
      "0.0\n"
     ]
    }
   ],
   "source": [
    "# 교재 첫 번째 답안 (시간복잡도 무시한 답변)\n",
    "n, m, k = map(int, input().split())\n",
    "data = list(map(int, input().split()))\n",
    "\n",
    "import time\n",
    "\n",
    "start_time = time.time()\n",
    "\n",
    "data.sort()\n",
    "first = data[n - 1]\n",
    "second = data[n - 2]\n",
    "\n",
    "result = 0\n",
    "\n",
    "while True:\n",
    "    for i in range(k):\n",
    "        if m == 0:\n",
    "            break\n",
    "        result += first\n",
    "        m -= 1\n",
    "    if m == 0:\n",
    "        break\n",
    "    result += second\n",
    "    m -= 1\n",
    "\n",
    "end_time = time.time()\n",
    "    \n",
    "print(result)\n",
    "print(end_time - start_time)"
   ]
  },
  {
   "cell_type": "code",
   "execution_count": 19,
   "id": "154f94e3",
   "metadata": {},
   "outputs": [
    {
     "name": "stdout",
     "output_type": "stream",
     "text": [
      "5 8 3\n",
      "2 4 5 4 6\n",
      "46\n",
      "0.0\n"
     ]
    }
   ],
   "source": [
    "# 교재 두 번째 답안 (시간복잡도 생각한 답변)\n",
    "n, m, k = map(int, input().split())\n",
    "data = list(map(int, input().split()))\n",
    "\n",
    "start_time = time.time()\n",
    "\n",
    "data.sort()\n",
    "first = data[n - 1]\n",
    "second = data[n - 2]\n",
    "\n",
    "count = int(m / (k + 1)) * k\n",
    "count += m % (k + 1)\n",
    "\n",
    "result = 0\n",
    "result += (count) * first\n",
    "result += (m - count) * second\n",
    "\n",
    "end_time = time.time()\n",
    "\n",
    "print(result)\n",
    "print(end_time - start_time)"
   ]
  },
  {
   "cell_type": "markdown",
   "id": "515fdf91",
   "metadata": {},
   "source": [
    "#### 숫자 카드 게임"
   ]
  },
  {
   "cell_type": "code",
   "execution_count": 1,
   "id": "14802f51",
   "metadata": {},
   "outputs": [
    {
     "name": "stdout",
     "output_type": "stream",
     "text": [
      "2 4\n",
      "7 3 1 8\n",
      "3 3 3 4\n",
      "3\n"
     ]
    }
   ],
   "source": [
    "# 내 답안\n",
    "n, m = map(int, input().split())\n",
    "\n",
    "result = 0\n",
    "\n",
    "for _ in range(2):\n",
    "    arr = list(map(int, input().split()))\n",
    "    if min(arr) > result:\n",
    "        result = min(arr)\n",
    "\n",
    "print(result)"
   ]
  },
  {
   "cell_type": "markdown",
   "id": "eefb2942",
   "metadata": {},
   "source": [
    "#### 1이 될 때 까지"
   ]
  },
  {
   "cell_type": "code",
   "execution_count": 10,
   "id": "90fc3a91",
   "metadata": {},
   "outputs": [
    {
     "name": "stdout",
     "output_type": "stream",
     "text": [
      "10000 3\n",
      "15\n"
     ]
    }
   ],
   "source": [
    "# 내 답안\n",
    "n, k = map(int, input().split())\n",
    "\n",
    "count = 0\n",
    "\n",
    "while True:\n",
    "    if n % k == 0:\n",
    "        n = n // k\n",
    "        count += 1\n",
    "    elif n == 1:\n",
    "        break\n",
    "    else:\n",
    "        n = n - 1\n",
    "        count += 1\n",
    "\n",
    "print(count)"
   ]
  },
  {
   "cell_type": "markdown",
   "id": "feb2788c",
   "metadata": {},
   "source": [
    "### Chapter 4 구현\n",
    "- 보통 1, 2번 문제로 출제되서 합격에 당락을 좌우함"
   ]
  },
  {
   "cell_type": "markdown",
   "id": "d79d68ef",
   "metadata": {},
   "source": [
    "#### 상하좌우"
   ]
  },
  {
   "cell_type": "code",
   "execution_count": 4,
   "id": "e3d660f5",
   "metadata": {},
   "outputs": [
    {
     "name": "stdout",
     "output_type": "stream",
     "text": [
      "5\n",
      "R R R U D D\n",
      "3 4\n"
     ]
    }
   ],
   "source": [
    "# 내 답안\n",
    "n = int(input())\n",
    "travel = list(map(str, input().split()))\n",
    "\n",
    "x = 1\n",
    "y = 1\n",
    "\n",
    "for i in range(len(travel)):\n",
    "    if travel[i] == 'L':\n",
    "        if x <= 1:\n",
    "            continue\n",
    "        else:\n",
    "            x -= 1\n",
    "    elif travel[i] == 'R':\n",
    "        if x >= n:\n",
    "            continue\n",
    "        else:\n",
    "            x += 1\n",
    "    elif travel[i] == 'D':\n",
    "        if y >= n:\n",
    "            continue\n",
    "        else:\n",
    "            y += 1\n",
    "    else:\n",
    "        if y <= 1:\n",
    "            continue\n",
    "        else:\n",
    "            y -= 1\n",
    "    \n",
    "print(y, x)"
   ]
  },
  {
   "cell_type": "markdown",
   "id": "c1ea8471",
   "metadata": {},
   "source": [
    "#### 시각"
   ]
  },
  {
   "cell_type": "code",
   "execution_count": 7,
   "id": "2e96fc3d",
   "metadata": {},
   "outputs": [
    {
     "name": "stdout",
     "output_type": "stream",
     "text": [
      "5\n",
      "11475\n"
     ]
    }
   ],
   "source": [
    "# 내 답안\n",
    "n = int(input())\n",
    "count = 0\n",
    "\n",
    "for i in range(n + 1):\n",
    "    for j in range(60):\n",
    "        for k in range(60):\n",
    "            if '3' in str(i) + str(j) + str(k):\n",
    "                count += 1\n",
    "\n",
    "print(count)"
   ]
  },
  {
   "cell_type": "markdown",
   "id": "979b65ab",
   "metadata": {},
   "source": [
    "#### 왕실의 나이트"
   ]
  },
  {
   "cell_type": "code",
   "execution_count": 12,
   "id": "32e78d4d",
   "metadata": {},
   "outputs": [
    {
     "name": "stdout",
     "output_type": "stream",
     "text": [
      "c4\n",
      "8\n"
     ]
    }
   ],
   "source": [
    "# 내 답안\n",
    "a = input()\n",
    "row = int(a[1])\n",
    "column = int(ord(a[0])) - int(ord('a')) + 1\n",
    "\n",
    "steps = [(-2, -1), (-1, -2), (1, -2), (2, -1), (2, 1), (1, 2), (-1, 2), (-2, 1)]\n",
    "\n",
    "result = 0\n",
    "for step in steps:\n",
    "    next_row = row + step[0]\n",
    "    next_column = column + step[1]\n",
    "    \n",
    "    if next_row >= 1 and next_row <= 8 and next_column >= 1 and next_column <= 8:\n",
    "        result += 1\n",
    "\n",
    "print(result)"
   ]
  },
  {
   "cell_type": "markdown",
   "id": "dc6759ba",
   "metadata": {},
   "source": [
    "#### 게임 개발"
   ]
  },
  {
   "cell_type": "code",
   "execution_count": 1,
   "id": "518204da",
   "metadata": {},
   "outputs": [
    {
     "name": "stdout",
     "output_type": "stream",
     "text": [
      "4 4\n",
      "1 1 0\n",
      "1 1 1 1\n",
      "1 0 0 1\n",
      "1 1 0 1\n",
      "1 1 1 1\n"
     ]
    },
    {
     "ename": "KeyboardInterrupt",
     "evalue": "",
     "output_type": "error",
     "traceback": [
      "\u001b[1;31m---------------------------------------------------------------------------\u001b[0m",
      "\u001b[1;31mKeyboardInterrupt\u001b[0m                         Traceback (most recent call last)",
      "\u001b[1;32m<ipython-input-1-35a6a364fa38>\u001b[0m in \u001b[0;36m<module>\u001b[1;34m\u001b[0m\n\u001b[0;32m     23\u001b[0m \u001b[0mturn_time\u001b[0m \u001b[1;33m=\u001b[0m \u001b[1;36m0\u001b[0m\u001b[1;33m\u001b[0m\u001b[1;33m\u001b[0m\u001b[0m\n\u001b[0;32m     24\u001b[0m \u001b[1;32mwhile\u001b[0m \u001b[1;32mTrue\u001b[0m\u001b[1;33m:\u001b[0m\u001b[1;33m\u001b[0m\u001b[1;33m\u001b[0m\u001b[0m\n\u001b[1;32m---> 25\u001b[1;33m     \u001b[0mturn_left\u001b[0m\u001b[1;33m(\u001b[0m\u001b[1;33m)\u001b[0m\u001b[1;33m\u001b[0m\u001b[1;33m\u001b[0m\u001b[0m\n\u001b[0m\u001b[0;32m     26\u001b[0m     \u001b[0mnx\u001b[0m \u001b[1;33m=\u001b[0m \u001b[0mx\u001b[0m \u001b[1;33m+\u001b[0m \u001b[0mdx\u001b[0m\u001b[1;33m[\u001b[0m\u001b[0mdirection\u001b[0m\u001b[1;33m]\u001b[0m\u001b[1;33m\u001b[0m\u001b[1;33m\u001b[0m\u001b[0m\n\u001b[0;32m     27\u001b[0m     \u001b[0mny\u001b[0m \u001b[1;33m=\u001b[0m \u001b[0my\u001b[0m \u001b[1;33m+\u001b[0m \u001b[0mdy\u001b[0m\u001b[1;33m[\u001b[0m\u001b[0mdirection\u001b[0m\u001b[1;33m]\u001b[0m\u001b[1;33m\u001b[0m\u001b[1;33m\u001b[0m\u001b[0m\n",
      "\u001b[1;31mKeyboardInterrupt\u001b[0m: "
     ]
    }
   ],
   "source": [
    "# 몰라서 책 답안..\n",
    "n, m = map(int, input().split())\n",
    "\n",
    "d = [[0] * m for _ in range(n)]\n",
    "\n",
    "x, y, direction = map(int, input().split())\n",
    "d[x][y] = 1\n",
    "\n",
    "array = []\n",
    "for i in range(n):\n",
    "    array.append(list(map(int, input().split())))\n",
    "    \n",
    "dx = [-1, 0, 1, 0]\n",
    "dy = [0, 1, 0, -1]\n",
    "\n",
    "def turn_left():\n",
    "    global direction\n",
    "    direction -= 1\n",
    "    if direction == -1:\n",
    "        direction = 3\n",
    "\n",
    "count = 1\n",
    "turn_time = 0\n",
    "while True:\n",
    "    turn_left()\n",
    "    nx = x + dx[direction]\n",
    "    ny = y + dy[direction]\n",
    "    \n",
    "    if d[nx][ny] == 0 and array[nx][ny] == 0:\n",
    "        d[nx][ny] == 1\n",
    "        x = nx\n",
    "        y = ny\n",
    "        count += 1\n",
    "        turn_time = 0\n",
    "        continue\n",
    "    else:\n",
    "        turn_time += 1\n",
    "    if turn_time == 4:\n",
    "        nx = x - dx[direction]\n",
    "        ny = y - dy[direction]\n",
    "        if array[nx][ny] == 0:\n",
    "            x = nx\n",
    "            y = ny\n",
    "        else:\n",
    "            break\n",
    "        turn_time = 0\n",
    "    \n",
    "print(count)"
   ]
  }
 ],
 "metadata": {
  "kernelspec": {
   "display_name": "Python 3",
   "language": "python",
   "name": "python3"
  },
  "language_info": {
   "codemirror_mode": {
    "name": "ipython",
    "version": 3
   },
   "file_extension": ".py",
   "mimetype": "text/x-python",
   "name": "python",
   "nbconvert_exporter": "python",
   "pygments_lexer": "ipython3",
   "version": "3.8.8"
  }
 },
 "nbformat": 4,
 "nbformat_minor": 5
}
