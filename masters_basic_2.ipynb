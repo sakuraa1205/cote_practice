{
 "cells": [
  {
   "cell_type": "code",
   "execution_count": 3,
   "id": "12bdc779",
   "metadata": {},
   "outputs": [
    {
     "name": "stdout",
     "output_type": "stream",
     "text": [
      "3\n",
      "998\n"
     ]
    }
   ],
   "source": [
    "a = int(input())\n",
    "b = 10 ** a - 2\n",
    "print(b)"
   ]
  },
  {
   "cell_type": "code",
   "execution_count": 16,
   "id": "9908f133",
   "metadata": {},
   "outputs": [
    {
     "name": "stdout",
     "output_type": "stream",
     "text": [
      "2\n",
      "1 1\n",
      "3 3\n",
      "0 0\n"
     ]
    }
   ],
   "source": [
    "a = int(input())\n",
    "b = [0, 0]\n",
    "\n",
    "for i in range(1, a + 1):\n",
    "    arr = list(map(int, input().split()))\n",
    "    if arr[0] == arr[1]:\n",
    "        b = b\n",
    "    elif (arr[0] + 1 == arr[1]) | (arr[0] - 2 == arr[1]):\n",
    "        b[1] = b[1] + 1\n",
    "    else:\n",
    "        b[0] = b[0] + 1\n",
    "\n",
    "print(b[0], b[1])"
   ]
  },
  {
   "cell_type": "code",
   "execution_count": 19,
   "id": "545046f2",
   "metadata": {},
   "outputs": [
    {
     "name": "stdout",
     "output_type": "stream",
     "text": [
      "12\n",
      "12\n"
     ]
    }
   ],
   "source": [
    "a = int(input())\n",
    "\n",
    "for i in range(max(a, 3), (a * 3) + 1):\n",
    "    if (i % a == 0) & (i % 3 == 0):\n",
    "        print(i)\n",
    "        break"
   ]
  },
  {
   "cell_type": "code",
   "execution_count": 25,
   "id": "3192a95f",
   "metadata": {},
   "outputs": [
    {
     "name": "stdout",
     "output_type": "stream",
     "text": [
      "6\n",
      "4\n"
     ]
    }
   ],
   "source": [
    "a = int(input())\n",
    "\n",
    "for i in range(3, a + 1):\n",
    "    if a < 1.5 * i:\n",
    "        print(i - 1)\n",
    "        break"
   ]
  },
  {
   "cell_type": "code",
   "execution_count": 4,
   "id": "1d2986af",
   "metadata": {
    "scrolled": true
   },
   "outputs": [
    {
     "name": "stdout",
     "output_type": "stream",
     "text": [
      "3 3\n",
      "R R R\n",
      "G G G\n",
      "B B B\n",
      "R R R\n",
      "R R R\n",
      "R R R\n",
      "R R R\n",
      "Y Y Y\n",
      "M M M\n"
     ]
    }
   ],
   "source": [
    "N, M = map(int, input().split())\n",
    "\n",
    "arr = [input().split() for _ in range(N)]\n",
    "brr = [input().split() for _ in range(N)]\n",
    "\n",
    "for i in range(len(arr)) :\n",
    "    for j in range(len(arr[0])):\n",
    "        arr[i][j] += brr[i][j]\n",
    "        if (arr[i][j] == 'RG') | (arr[i][j] == 'GR'):\n",
    "            arr[i][j] = 'Y'\n",
    "        elif (arr[i][j] == 'BG') | (arr[i][j] == 'GB'):\n",
    "            arr[i][j] = 'C'\n",
    "        elif (arr[i][j] == 'BR') | (arr[i][j] == 'RB'):\n",
    "            arr[i][j] = 'M'\n",
    "        elif (arr[i][j] == 'RR'):\n",
    "            arr[i][j] = 'R'\n",
    "        elif (arr[i][j] == 'GG'):\n",
    "            arr[i][j] = 'G'\n",
    "        elif (arr[i][j] == 'BB'):\n",
    "            arr[i][j] = 'B'\n",
    "\n",
    "for i in arr:\n",
    "    print(*i)"
   ]
  },
  {
   "cell_type": "code",
   "execution_count": 51,
   "id": "bcadafa4",
   "metadata": {},
   "outputs": [
    {
     "name": "stdout",
     "output_type": "stream",
     "text": [
      "13 12 5\n",
      "30\n"
     ]
    }
   ],
   "source": [
    "a, b, c = map(int, input().split())\n",
    "\n",
    "if max(a, b, c) == a:\n",
    "    print(round(b * c / 2))\n",
    "elif max(a, b, c) == b:\n",
    "    print(round(a * c / 2))\n",
    "else:\n",
    "    print(round(a * b / 2))"
   ]
  },
  {
   "cell_type": "code",
   "execution_count": 53,
   "id": "eed60331",
   "metadata": {},
   "outputs": [
    {
     "name": "stdout",
     "output_type": "stream",
     "text": [
      "10000\n",
      "32195\n"
     ]
    }
   ],
   "source": [
    "a = int(input())\n",
    "print(42195 - a)"
   ]
  },
  {
   "cell_type": "code",
   "execution_count": 56,
   "id": "92d5aea5",
   "metadata": {},
   "outputs": [
    {
     "name": "stdout",
     "output_type": "stream",
     "text": [
      "100 100 100 39 100\n",
      "F\n"
     ]
    }
   ],
   "source": [
    "a, b, c, d, e = map(int, input().split())\n",
    "mean = (a + b + c + d + e) / 5\n",
    "if (a < 40) | (b < 40) | (c < 40) | (d < 40) | (e < 40) | (mean < 60):\n",
    "    print('F')\n",
    "else:\n",
    "    print('P')"
   ]
  },
  {
   "cell_type": "code",
   "execution_count": 8,
   "id": "88ad1d54",
   "metadata": {},
   "outputs": [
    {
     "name": "stdout",
     "output_type": "stream",
     "text": [
      "3\n",
      "THU\n",
      "SUN\n"
     ]
    }
   ],
   "source": [
    "a = int(input())\n",
    "b = str(input())\n",
    "\n",
    "arr = ['MON', 'TUE', 'WED', 'THU', 'FRI', 'SAT', 'SUN']\n",
    "\n",
    "if b == arr[0]:\n",
    "    if a % 7 == 0:\n",
    "        print(arr[0])\n",
    "    elif a % 7 == 1:\n",
    "        print(arr[1])\n",
    "    elif a % 7 == 2:\n",
    "        print(arr[2])\n",
    "    elif a % 7 == 3:\n",
    "        print(arr[3])\n",
    "    elif a % 7 == 4:\n",
    "        print(arr[4])\n",
    "    elif a % 7 == 5:\n",
    "        print(arr[5])\n",
    "    else:\n",
    "        print(arr[6])\n",
    "        \n",
    "elif b == arr[1]:\n",
    "    if a % 7 == 0:\n",
    "        print(arr[1])\n",
    "    elif a % 7 == 1:\n",
    "        print(arr[2])\n",
    "    elif a % 7 == 2:\n",
    "        print(arr[3])\n",
    "    elif a % 7 == 3:\n",
    "        print(arr[4])\n",
    "    elif a % 7 == 4:\n",
    "        print(arr[5])\n",
    "    elif a % 7 == 5:\n",
    "        print(arr[6])\n",
    "    elif a % 7 == 6:\n",
    "        print(arr[0])\n",
    "\n",
    "elif b == arr[2]:\n",
    "    if a % 7 == 0:\n",
    "        print(arr[2])\n",
    "    elif a % 7 == 1:\n",
    "        print(arr[3])\n",
    "    elif a % 7 == 2:\n",
    "        print(arr[4])\n",
    "    elif a % 7 == 3:\n",
    "        print(arr[5])\n",
    "    elif a % 7 == 4:\n",
    "        print(arr[6])\n",
    "    elif a % 7 == 5:\n",
    "        print(arr[0])\n",
    "    elif a % 7 == 6:\n",
    "        print(arr[1])\n",
    "\n",
    "elif b == arr[3]:\n",
    "    if a % 7 == 0:\n",
    "        print(arr[3])\n",
    "    elif a % 7 == 1:\n",
    "        print(arr[4])\n",
    "    elif a % 7 == 2:\n",
    "        print(arr[5])\n",
    "    elif a % 7 == 3:\n",
    "        print(arr[6])\n",
    "    elif a % 7 == 4:\n",
    "        print(arr[0])\n",
    "    elif a % 7 == 5:\n",
    "        print(arr[1])\n",
    "    elif a % 7 == 6:\n",
    "        print(arr[2])\n",
    "        \n",
    "elif b == arr[4]:\n",
    "    if a % 7 == 0:\n",
    "        print(arr[4])\n",
    "    elif a % 7 == 1:\n",
    "        print(arr[5])\n",
    "    elif a % 7 == 2:\n",
    "        print(arr[6])\n",
    "    elif a % 7 == 3:\n",
    "        print(arr[0])\n",
    "    elif a % 7 == 4:\n",
    "        print(arr[1])\n",
    "    elif a % 7 == 5:\n",
    "        print(arr[2])\n",
    "    elif a % 7 == 6:\n",
    "        print(arr[3])\n",
    "        \n",
    "elif b == arr[5]:\n",
    "    if a % 7 == 0:\n",
    "        print(arr[5])\n",
    "    elif a % 7 == 1:\n",
    "        print(arr[6])\n",
    "    elif a % 7 == 2:\n",
    "        print(arr[0])\n",
    "    elif a % 7 == 3:\n",
    "        print(arr[1])\n",
    "    elif a % 7 == 4:\n",
    "        print(arr[2])\n",
    "    elif a % 7 == 5:\n",
    "        print(arr[3])\n",
    "    elif a % 7 == 6:\n",
    "        print(arr[4])\n",
    "\n",
    "else:\n",
    "    if a % 7 == 0:\n",
    "        print(arr[6])\n",
    "    elif a % 7 == 1:\n",
    "        print(arr[0])\n",
    "    elif a % 7 == 2:\n",
    "        print(arr[1])\n",
    "    elif a % 7 == 3:\n",
    "        print(arr[2])\n",
    "    elif a % 7 == 4:\n",
    "        print(arr[3])\n",
    "    elif a % 7 == 5:\n",
    "        print(arr[4])\n",
    "    elif a % 7 == 6:\n",
    "        print(arr[5])"
   ]
  }
 ],
 "metadata": {
  "kernelspec": {
   "display_name": "Python 3",
   "language": "python",
   "name": "python3"
  },
  "language_info": {
   "codemirror_mode": {
    "name": "ipython",
    "version": 3
   },
   "file_extension": ".py",
   "mimetype": "text/x-python",
   "name": "python",
   "nbconvert_exporter": "python",
   "pygments_lexer": "ipython3",
   "version": "3.8.8"
  }
 },
 "nbformat": 4,
 "nbformat_minor": 5
}
